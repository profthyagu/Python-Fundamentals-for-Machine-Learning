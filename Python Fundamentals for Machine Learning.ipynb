{
 "cells": [
  {
   "cell_type": "markdown",
   "metadata": {},
   "source": [
    "# Python Fundamentals for Machine Learning"
   ]
  },
  {
   "cell_type": "raw",
   "metadata": {
    "collapsed": true
   },
   "source": [
    "#  Author : Dr.Thyagaraju G S , Context Innovations Lab \n",
    "#  Date : 15/7/2018\n"
   ]
  },
  {
   "cell_type": "markdown",
   "metadata": {},
   "source": [
    "# My First Program"
   ]
  },
  {
   "cell_type": "code",
   "execution_count": null,
   "metadata": {
    "collapsed": true
   },
   "outputs": [],
   "source": [
    "# Program to find simple interest\n",
    "p = int(input(\"\\n Enter the principal Amount:\"))\n",
    "t = int(input(\"\\n Enter the time period:\"))\n",
    "r = float(input(\"\\n Enter the rate of interest:\"))\n",
    "si = p*t*r/100\n",
    "print(\"\\n Simple Interest:\",si)"
   ]
  },
  {
   "cell_type": "markdown",
   "metadata": {},
   "source": [
    "# 1.0  Output  using Print"
   ]
  },
  {
   "cell_type": "code",
   "execution_count": null,
   "metadata": {
    "collapsed": true
   },
   "outputs": [],
   "source": [
    "print('''This sentence is output to the screen''')\n",
    "a=5\n",
    "print(\"The value of a is:\",a)\n",
    "print('x:',1,2,3,4)\n",
    "x = 5 ; y = 10\n",
    "print('The value of x is {} and y is {}'.format(x,y))\n",
    "print('I love {0} and {1}'.format('bread','butter'))\n",
    "print('I love {1} and {0}'.format('bread','butter'))"
   ]
  },
  {
   "cell_type": "code",
   "execution_count": null,
   "metadata": {
    "collapsed": true
   },
   "outputs": [],
   "source": [
    "print('Hello {name}, {greeting}'.format(greeting = 'Good Morning!!',\\\n",
    "                                        name = 'John'))"
   ]
  },
  {
   "cell_type": "code",
   "execution_count": null,
   "metadata": {
    "collapsed": true
   },
   "outputs": [],
   "source": [
    "x = 12.3456789\n",
    "print('The value of x is %3.2f' %x)\n",
    "print('The value of x is %3.4f' %x)"
   ]
  },
  {
   "cell_type": "code",
   "execution_count": null,
   "metadata": {
    "collapsed": true
   },
   "outputs": [],
   "source": [
    "for x in range(1, 11):\n",
    "     print('{0:2d} {1:3d} {2:4d}'.format(x, x*x, x*x*x))"
   ]
  },
  {
   "cell_type": "code",
   "execution_count": null,
   "metadata": {
    "collapsed": true
   },
   "outputs": [],
   "source": [
    "table = {'Raju': 9480123526, 'Ravi': 9480123527, 'Rahul': 9480123528}\n",
    "for name, phone in table.items():\n",
    "     print('{0:10} ==> {1:10d}'.format(name, phone))"
   ]
  },
  {
   "cell_type": "code",
   "execution_count": null,
   "metadata": {
    "collapsed": true
   },
   "outputs": [],
   "source": [
    "import math\n",
    "print('The value of PI is approximately %5.3f.' % math.pi)"
   ]
  },
  {
   "cell_type": "markdown",
   "metadata": {},
   "source": [
    "# 1.1 Input using input"
   ]
  },
  {
   "cell_type": "code",
   "execution_count": null,
   "metadata": {
    "collapsed": true
   },
   "outputs": [],
   "source": [
    "x = input('Enter a string: ')\n",
    "print(\"The entered string is :{0}\".format(x))\n",
    "y = int(input('Enter a integer: '))\n",
    "print(\"The entered integer is :\",y)\n",
    "z = float(input('Enter a floating point number:'))\n",
    "print(\"The entered real number  is :\",z)"
   ]
  },
  {
   "cell_type": "markdown",
   "metadata": {},
   "source": [
    "# 1.3 Mutiline Statements"
   ]
  },
  {
   "cell_type": "code",
   "execution_count": null,
   "metadata": {
    "collapsed": true
   },
   "outputs": [],
   "source": [
    "# Example of implicit line continuation\n",
    "x = ('1' + '2' +\n",
    "     '3' + '4')\n",
    "# Example of explicit line continuation\n",
    "y = '1' + '2' + \\\n",
    "'11' + '12'\n",
    "weekdays = ['Monday', 'Tuesday', 'Wednesday',\n",
    "'Thursday', 'Friday']\n",
    "weekday = {'one':\n",
    "           'Monday'}\n",
    "print ('x has a value of', x)\n",
    "print ('y has a value of', y)\n",
    "print(weekdays)\n",
    "print(weekday)"
   ]
  },
  {
   "cell_type": "code",
   "execution_count": null,
   "metadata": {
    "collapsed": true
   },
   "outputs": [],
   "source": [
    "import os; x = 'Hello'; print(x)"
   ]
  },
  {
   "cell_type": "markdown",
   "metadata": {},
   "source": [
    "# 2.0 Conditional Execution"
   ]
  },
  {
   "cell_type": "markdown",
   "metadata": {},
   "source": [
    "#Example code for a simple ‘if’ statement\n",
    "$$y=f(x^2)/2$$"
   ]
  },
  {
   "cell_type": "code",
   "execution_count": null,
   "metadata": {
    "collapsed": true
   },
   "outputs": [],
   "source": [
    "var = -1\n",
    "if var < 0:\n",
    "    print(var)\n",
    "    print(\"the value of var is negative\")\n",
    "# If there is only a single clause then it may go on the same line as the\n",
    "# header statement\n",
    "if ( var == -1 ) : \n",
    "    print(\"the value of var is negative\")"
   ]
  },
  {
   "cell_type": "raw",
   "metadata": {},
   "source": [
    "#Example code for ‘if else’ statement"
   ]
  },
  {
   "cell_type": "code",
   "execution_count": null,
   "metadata": {
    "collapsed": true
   },
   "outputs": [],
   "source": [
    "var = 1\n",
    "if var < 0:\n",
    "    print(\"the value of var is negative\")\n",
    "    print(var)\n",
    "else:\n",
    "    print(\"the value of var is positive\")\n",
    "    print(var)"
   ]
  },
  {
   "cell_type": "raw",
   "metadata": {},
   "source": [
    "# Example for nested if else"
   ]
  },
  {
   "cell_type": "code",
   "execution_count": null,
   "metadata": {
    "collapsed": true
   },
   "outputs": [],
   "source": [
    "score = 95\n",
    "if score >= 99:\n",
    "    print('A')\n",
    "elif score >=75:\n",
    "    print('B')\n",
    "elif score >= 60:\n",
    "    print('C')\n",
    "elif score >= 35:\n",
    "    print('D')\n",
    "else:\n",
    "    print('F')"
   ]
  },
  {
   "cell_type": "markdown",
   "metadata": {},
   "source": [
    "# 3.0 Iterations"
   ]
  },
  {
   "cell_type": "raw",
   "metadata": {},
   "source": [
    "# Usage of For Loop "
   ]
  },
  {
   "cell_type": "code",
   "execution_count": null,
   "metadata": {
    "collapsed": true
   },
   "outputs": [],
   "source": [
    "# First Example\n",
    "print(\"First Example\")\n",
    "for item in [1,2,3,4,5]:\n",
    "    print('item :', item)\n",
    "# Second Example\n",
    "print(\"Second Example\")\n",
    "letters = ['A', 'B', 'C']\n",
    "for index in range(len(letters)):\n",
    "    print('First loop letter :', letters[index])\n"
   ]
  },
  {
   "cell_type": "raw",
   "metadata": {},
   "source": [
    "#While loop: The while statement repeats a set of code until the condition is true."
   ]
  },
  {
   "cell_type": "code",
   "execution_count": null,
   "metadata": {
    "collapsed": true
   },
   "outputs": [],
   "source": [
    "#Example code for while loop statement\n",
    "count = 0\n",
    "while (count <3):\n",
    "    print('The count is:', count)\n",
    "    count = count + 1"
   ]
  },
  {
   "cell_type": "markdown",
   "metadata": {},
   "source": [
    "# 4.1 LISTS"
   ]
  },
  {
   "cell_type": "markdown",
   "metadata": {},
   "source": [
    "Python’s lists are the most flexible data type. It can be created by writing a list of comma separated values between square brackets. Note that that the items in the list need not be of the same data type."
   ]
  },
  {
   "cell_type": "code",
   "execution_count": null,
   "metadata": {
    "collapsed": true
   },
   "outputs": [],
   "source": [
    "# Example code for accessing lists\n",
    "# Create lists\n",
    "list_1 = ['Statistics', 'Programming', 2016, 2017, 2018]\n",
    "list_2 = ['a', 'b', 1, 2, 3, 4, 5, 6, 7 ]\n",
    "# Accessing values in lists\n",
    "print(\"list_1[0]: \", list_1[0])\n",
    "print(\"list2_[1:5]: \", list_2[1:5])"
   ]
  },
  {
   "cell_type": "code",
   "execution_count": null,
   "metadata": {
    "collapsed": true
   },
   "outputs": [],
   "source": [
    "#Example code for adding new values to lists\n",
    "print(\"list_1 values: \", list_1)\n",
    "# Adding new value to list\n",
    "list_1.append(2019)\n",
    "print(\"list_1 values post append: \", list_1)"
   ]
  },
  {
   "cell_type": "code",
   "execution_count": null,
   "metadata": {
    "collapsed": true
   },
   "outputs": [],
   "source": [
    "#Example code for updating existing values of lists\n",
    "print(\"Values of list_1: \", list_1)\n",
    "# Updating existing value of list\n",
    "print(\"Index 2 value : \", list_1[2])\n",
    "list_1[2] = 2015;\n",
    "print(\"Index 2's new value : \", list_1[2])"
   ]
  },
  {
   "cell_type": "code",
   "execution_count": null,
   "metadata": {
    "collapsed": true
   },
   "outputs": [],
   "source": [
    "#Example code for deleting a list element\n",
    "print(\"list_1 values: \", list_1)\n",
    "# Deleting list element\n",
    "del list_1[5];\n",
    "print(\"After deleting value at index 2 : \", list_1)"
   ]
  },
  {
   "cell_type": "markdown",
   "metadata": {},
   "source": [
    "# Example code for basic operations on lists"
   ]
  },
  {
   "cell_type": "code",
   "execution_count": null,
   "metadata": {
    "collapsed": true
   },
   "outputs": [],
   "source": [
    "import math\n",
    "import string\n",
    "import operator\n",
    "#Example code for basic operations on lists\n",
    "\n",
    "print(\"Length: \", len(list_1))\n",
    "\n",
    "print(\"Concatenation: \", [1,2,3] + [4, 5, 6])\n",
    "\n",
    "print(\"Repetition :\", ['Hello'] * 4)\n",
    "\n",
    "print(\"Membership :\", 3 in [1,2,3])\n",
    "\n",
    "print(\"Iteration :\")\n",
    "for x in [1,2,3]: print(x)\n",
    "\n",
    "# Negative sign will count from the right\n",
    "print(\"slicing :\", list_1[-2])\n",
    "\n",
    "# If you dont specify the end explicitly, all elements from the specified\n",
    "#start index will be printed\n",
    "print(\"slicing range: \", list_1[1:])\n",
    "\n",
    "print(\"Max of list: \", max([1,2,3,4,5]))\n",
    "\n",
    "print(\"Min of list: \", min([1,2,3,4,5]))\n",
    "\n",
    "print(\"Count number of 1 in list: \", [1,1,2,3,4,5,].count(1))\n",
    "\n",
    "list_1.extend(list_2)\n",
    "\n",
    "print(\"Extended :\", list_1)\n",
    "\n",
    "print(\"Index for Programming:\",list_1.index('Programming'))\n",
    "print (list_1)\n",
    "print(\"pop last item in list: \", list_1.pop())\n",
    "print(\"pop the item with index 2: \", list_1.pop(2))\n",
    "list_1.remove('b')\n",
    "print(\"removed b from list: \", list_1)\n",
    "list_1.reverse()\n",
    "print(\"Reverse: \", list_1)\n",
    "list_1 = ['a','c','b']\n",
    "list_1.sort()\n",
    "print(\"Sort ascending: \", list_1)\n",
    "list_1.sort(reverse = True)\n",
    "print(\"Sort descending: \", list_1)"
   ]
  },
  {
   "cell_type": "markdown",
   "metadata": {},
   "source": [
    "# 4.2 Tuples "
   ]
  },
  {
   "cell_type": "markdown",
   "metadata": {},
   "source": [
    "A Python tuple is a sequences or series of immutable Python objects very much similar to the lists. However there exist some essential differences between lists and tuples, which are the following. \n",
    "1. Unlike list, the objects of tuples cannot be changed.\n",
    "2. Tuples are defined by using parentheses, but lists are defined by square brackets"
   ]
  },
  {
   "cell_type": "code",
   "execution_count": null,
   "metadata": {
    "collapsed": true
   },
   "outputs": [],
   "source": [
    "# Example code for creating tuple\n",
    "# Creating a tuple\n",
    "Tuple = ()\n",
    "print(\"Empty Tuple: \", Tuple)\n",
    "Tuple = (1,)\n",
    "print(\"Tuple with single item: \", Tuple)\n",
    "Tuple = ('a','b','c','d',1,2,3)\n",
    "print(\"Sample Tuple :\", Tuple)"
   ]
  },
  {
   "cell_type": "code",
   "execution_count": null,
   "metadata": {
    "collapsed": true
   },
   "outputs": [],
   "source": [
    "#Example code for accessing tuple\n",
    "# Accessing items in tuple\n",
    "Tuple = ('a', 'b', 'c', 'd', 1, 2, 3)\n",
    "print(\"3rd item of Tuple:\", Tuple[2])\n",
    "print(\"First 3 items of Tuple\", Tuple[0:2])"
   ]
  },
  {
   "cell_type": "code",
   "execution_count": null,
   "metadata": {
    "collapsed": true
   },
   "outputs": [],
   "source": [
    "#Example code for deleting tuple\n",
    "# Deleting tuple\n",
    "print(\"Sample Tuple: \", Tuple)\n",
    "del Tuple\n",
    "print(Tuple) # Will throw an error message as the tuple does not exist"
   ]
  },
  {
   "cell_type": "code",
   "execution_count": null,
   "metadata": {
    "collapsed": true
   },
   "outputs": [],
   "source": [
    "# Example code for basic operations on tupe (not exhaustive)\n",
    "# Basic Tuple operations\n",
    "Tuple = ('a','b','c','d',1,2,3)\n",
    "print(\"Length of Tuple: \", len(Tuple))\n",
    "Tuple_Concat = Tuple + (7,8,9)\n",
    "print(\"Concatinated Tuple: \", Tuple_Concat)\n",
    "\n",
    "print(\"Repetition: \", (1,'a',2, 'b') * 3)\n",
    "print(\"Membership check: \", 3 in (1,2,3))\n",
    "# Iteration\n",
    "for x in (1, 2, 3): print(x)\n",
    "print(\"Negative sign will retrieve item from right: \", Tuple_Concat[-2])\n",
    "print(\"Sliced Tuple [2:] \", Tuple_Concat[2:])\n",
    "# Find max\n",
    "print(\"Max of the Tuple (1,2,3,4,5,6,7,8,9,10): \",\n",
    "max((1,2,3,4,5,6,7,8,9,10)))\n",
    "print(\"Min of the Tuple (1,2,3,4,5,6,7,8,9,10): \",\n",
    "min((1,2,3,4,5,6,7,8,9,10)))\n",
    "print(\"List [1,2,3,4] converted to tuple: \", type(tuple([1,2,3,4])))"
   ]
  },
  {
   "cell_type": "markdown",
   "metadata": {},
   "source": [
    "# 4.3 Dictionary"
   ]
  },
  {
   "cell_type": "markdown",
   "metadata": {},
   "source": [
    "The Python dictionary will have a key and value pair for each item that is part of it. The key and value should be enclosed in curly braces. Each key and value is separated using a colon (:), and further each item is separated by commas (,). Note that the keys are unique within a specific dictionary and must be immutable data types such as strings, numbers,\n",
    "or tuples, whereas values can take duplicate data of any type."
   ]
  },
  {
   "cell_type": "code",
   "execution_count": null,
   "metadata": {
    "collapsed": true
   },
   "outputs": [],
   "source": [
    "# Example code for creating dictionary\n",
    "# Creating dictionary\n",
    "dict = {'Name': 'Jivin', 'Age': 6, 'Class': 'First'}\n",
    "print(\"Sample dictionary: \", dict)"
   ]
  },
  {
   "cell_type": "code",
   "execution_count": null,
   "metadata": {
    "collapsed": true
   },
   "outputs": [],
   "source": [
    "# Example code for accessing dictionary\n",
    "# Accessing items in dictionary\n",
    "print(\"Value of key Name, from sample dictionary:\", dict['Name'])"
   ]
  },
  {
   "cell_type": "code",
   "execution_count": null,
   "metadata": {
    "collapsed": true
   },
   "outputs": [],
   "source": [
    "#Example for deleting dictionary\n",
    "# Deleting a dictionary\n",
    "\n",
    "dict0 = {'Name': 'Jivin', 'Age': 6, 'Class': 'First'}\n",
    "print(\"Sample dictionary: \", dict0)\n",
    "k=1\n",
    "for i in dict0:\n",
    "    print(k,i,dict0[i])\n",
    "    k=k+1\n",
    "del (dict0['Name']) # Delete specific item\n",
    "\n",
    "print(\"Sample dictionary post deletion of item Name:\", dict0)\n",
    "\n",
    "dict0 = {'Name': 'Jivin', 'Age': 6, 'Class': 'First'}\n",
    "dict0.clear() # Clear all the contents of dictionary\n",
    "print(\"dict post dict.clear():\", dict0)\n",
    "\n",
    "dict = {'Name': 'Jivin', 'Age': 6, 'Class': 'First'}\n",
    "del (dict0) # Delete the dictionary\n",
    "#print(dict0)"
   ]
  },
  {
   "cell_type": "code",
   "execution_count": null,
   "metadata": {
    "collapsed": true
   },
   "outputs": [],
   "source": [
    "#Example code for updating dictionary\n",
    "dict = {'Name': 'Jivin', 'Age': 6, 'Class': 'First'}\n",
    "print(\"Sample dictionary: \", dict)\n",
    "dict['Age'] = 6.5\n",
    "print(\"Dictionary post age value update: \", dict)"
   ]
  },
  {
   "cell_type": "code",
   "execution_count": null,
   "metadata": {
    "collapsed": true
   },
   "outputs": [],
   "source": [
    "#Example code for basic operations on dictionary\n",
    "# Basic operations\n",
    "dict = {'Name': 'Jivin', 'Age': 6, 'Class': 'First'}\n",
    "print(\"Length of dict: \", len(dict))\n",
    "\n",
    "# Copy the dict\n",
    "dict1 = dict.copy()\n",
    "print(\"Copy:\\n\",dict1)\n",
    "\n",
    "# Retrieve value for a given key\n",
    "print(\"Value for Age: \", dict.get('Age'))\n",
    "\n",
    "# Return items of dictionary\n",
    "print(\"dict items: \", dict.items())\n",
    "\n",
    "# Return items of keys\n",
    "print(\"dict keys: \", dict.keys())\n",
    "\n",
    "# return values of dict\n",
    "print(\"Value of dict: \", dict.values())\n",
    "\n",
    "# Concatenate dicts\n",
    "dict1 = {'Name': 'Jivin', 'Age': 6}\n",
    "dict2 = {'Sex': 'male' }\n",
    "dict1.update(dict2)\n",
    "print(\"dict1.update(dict2) = \", dict1)"
   ]
  },
  {
   "cell_type": "markdown",
   "metadata": {},
   "source": [
    "# 5.0 User-Defined Functions"
   ]
  },
  {
   "cell_type": "markdown",
   "metadata": {},
   "source": [
    "A user-defined function is a block of related code statements that are organized to achieve a single related action. The key objective of the user-defined functions concept is to encourage modularity and enable reusability of code."
   ]
  },
  {
   "cell_type": "raw",
   "metadata": {},
   "source": [
    "Syntax for creating functions without argument:\n",
    "def functoin_name():\n",
    "    1st block line\n",
    "    2nd block line\n",
    "    ..."
   ]
  },
  {
   "cell_type": "code",
   "execution_count": null,
   "metadata": {
    "collapsed": true
   },
   "outputs": [],
   "source": [
    "# Example code for creating functions without argument\n",
    "\n",
    "# Simple function\n",
    "def someFunction():\n",
    "    print(\"Hello World\")\n",
    "\n",
    "# Call the function\n",
    "someFunction()"
   ]
  },
  {
   "cell_type": "markdown",
   "metadata": {},
   "source": [
    "Syntax for Creating Functions with Argument\n",
    "def functoin_name(parameters):\n",
    "    1st block line\n",
    "    2nd block line\n",
    "    ...\n",
    "    return [expression]"
   ]
  },
  {
   "cell_type": "code",
   "execution_count": null,
   "metadata": {
    "collapsed": true
   },
   "outputs": [],
   "source": [
    "#Example code for creating functions with arguments\n",
    "\n",
    "# Simple function to add two numbers\n",
    "def sum_two_numbers(x, y):\n",
    "        return x + y\n",
    "\n",
    "# after this line x will hold the value 3\n",
    "print(sum_two_numbers(1,2))"
   ]
  },
  {
   "cell_type": "raw",
   "metadata": {},
   "source": [
    "Scope of Variables\n",
    "The availability of a variable or identifier within the program during and after the execution is determined by the scope of a variable. There are two fundamental variable scopes in Python.\n",
    "1. Global variables\n",
    "2. Local variables"
   ]
  },
  {
   "cell_type": "code",
   "execution_count": null,
   "metadata": {
    "collapsed": true
   },
   "outputs": [],
   "source": [
    "#Example code for defining variable scopes\n",
    "# Global variable\n",
    "x = 10\n",
    "# Simple function to add two numbers\n",
    "def sum_two_numbers(y):\n",
    "    return x + y\n",
    "# Call the function and print result\n",
    "print(sum_two_numbers(10))"
   ]
  },
  {
   "cell_type": "code",
   "execution_count": null,
   "metadata": {
    "collapsed": true
   },
   "outputs": [],
   "source": [
    "#Variable Length Arguments\n",
    "# Example code for passing argumens as *args\n",
    "# Simple function to loop through arguments and print them\n",
    "\n",
    "def sample_function(*args):\n",
    "    for a in args:\n",
    "        print(a)\n",
    "\n",
    "# Call the function\n",
    "sample_function(1,2,3)"
   ]
  },
  {
   "cell_type": "code",
   "execution_count": null,
   "metadata": {
    "collapsed": true
   },
   "outputs": [],
   "source": [
    "#Example code for passing argumens as 2D\n",
    "# Simple function to loop through arguments and print them\n",
    "\n",
    "def sample_function(**args):\n",
    "    for a in args:\n",
    "        print(a, args[a])\n",
    "# Call the function\n",
    "sample_function(name='John', age=27)"
   ]
  },
  {
   "cell_type": "code",
   "execution_count": null,
   "metadata": {
    "collapsed": true
   },
   "outputs": [],
   "source": [
    "#Lambda Function \n",
    "def add(x, y): \n",
    "    return x + y\n",
    "print(\"FUNCTION ADD:\\n\",add(3,2))\n",
    "\n",
    "add = lambda x, y : x + y \n",
    "print(\"LAMBDA ADD :\\n\",add(3,2))"
   ]
  },
  {
   "cell_type": "markdown",
   "metadata": {},
   "source": [
    "# 6.0 Machine Learning Python Packages"
   ]
  },
  {
   "cell_type": "markdown",
   "metadata": {
    "collapsed": true
   },
   "source": [
    "Machine Learning is a collection of algorithms and techniques used to \n",
    "create computational systems that learn from data in order to make predictions and inferences.\n",
    "AI Process Loop : \n",
    "[\n",
    "• Observe – identify patterns using the data\n",
    "• Plan – find all possible solutions\n",
    "• Optimize – find optimal solution from the list of possible solutions\n",
    "• Action – execute the optimal solution\n",
    "• Learn and Adapt – is the result giving expected result, if no adapt\n",
    "]\n",
    "ML Process Loop :\n",
    "[There are six major phases :\n",
    "• Business understanding\n",
    "• Data understanding\n",
    "• Data preparation\n",
    "• Modeling\n",
    "• Evaluation\n",
    "• Deployment\n",
    "]\n",
    "There is a rich number of open source libraries available to facilitate practical machine learning. These are mainly known as scientific Python libraries and are generally put to use when performing elementary machine learning tasks. At a high level we can divide these libraries into data analysis and core machine learning libraries based on their usage/purpose.\n",
    "\n",
    "Data analysis packages: These are the sets of packages that provide us the mathematic and scientific functionalities that are essential to perform data preprocessing and transformation.\n",
    "Core Machine learning packages: These are the set of packages that provide us with all the necessary machine learning algorithms and functionalities that can be applied on a given dataset to extract the patterns."
   ]
  },
  {
   "cell_type": "markdown",
   "metadata": {},
   "source": [
    "# 6.1: Data Analysis Packages"
   ]
  },
  {
   "cell_type": "markdown",
   "metadata": {},
   "source": [
    "There are four key packages that are most widely used for data analysis.\n",
    "# 6.1.1: NumPy\n",
    "# 6.1.2: SciPy\n",
    "# 6.1.3: Matplotlib\n",
    "# 6.1.4: Pandas"
   ]
  },
  {
   "cell_type": "markdown",
   "metadata": {},
   "source": [
    "# 6.1.1 : NumPy"
   ]
  },
  {
   "cell_type": "raw",
   "metadata": {},
   "source": [
    "NumPy is the core library for scientific computing in Python. It provides a highperformance multidimensional array object, and tools for working with these array"
   ]
  },
  {
   "cell_type": "code",
   "execution_count": null,
   "metadata": {
    "collapsed": true
   },
   "outputs": [],
   "source": [
    "#Example code for initializing NumPy array\n",
    "import numpy as np\n",
    "# Create a rank 1 array\n",
    "a = np.array([0, 1, 2])\n",
    "print(type(a))\n",
    "# this will print the dimension of the array\n",
    "print(a.shape)\n",
    "print(a[0])\n",
    "print(a[1])\n",
    "print(a[2])\n",
    "# Change an element of the array\n",
    "a[0] = 5\n",
    "print(a)"
   ]
  },
  {
   "cell_type": "code",
   "execution_count": null,
   "metadata": {
    "collapsed": true
   },
   "outputs": [],
   "source": [
    "# Create a rank 2 array\n",
    "b = np.array([[0,1,2],[3,4,5]])\n",
    "print(b.shape)\n",
    "print(b)\n",
    "print(b[0, 0], b[0, 1], b[1, 0])"
   ]
  },
  {
   "cell_type": "code",
   "execution_count": null,
   "metadata": {
    "collapsed": true
   },
   "outputs": [],
   "source": [
    "# Create a 3x3 array of all zeros\n",
    "a = np.zeros((3,3))\n",
    "print(a)"
   ]
  },
  {
   "cell_type": "code",
   "execution_count": null,
   "metadata": {
    "collapsed": true
   },
   "outputs": [],
   "source": [
    "# Create a 2x2 array of all ones\n",
    "b = np.ones((2,2))\n",
    "print(b)"
   ]
  },
  {
   "cell_type": "code",
   "execution_count": null,
   "metadata": {
    "collapsed": true
   },
   "outputs": [],
   "source": [
    "# Create a 3x3 constant array\n",
    "c = np.full((3,3), 7)\n",
    "print(c)"
   ]
  },
  {
   "cell_type": "code",
   "execution_count": null,
   "metadata": {
    "collapsed": true
   },
   "outputs": [],
   "source": [
    "# Create a 3x3 array filled with random values\n",
    "d = np.random.random((3,3))\n",
    "print(d)"
   ]
  },
  {
   "cell_type": "code",
   "execution_count": null,
   "metadata": {
    "collapsed": true
   },
   "outputs": [],
   "source": [
    "# Create a 3x3 identity matrix\n",
    "e = np.eye(3)\n",
    "print(e)"
   ]
  },
  {
   "cell_type": "code",
   "execution_count": null,
   "metadata": {
    "collapsed": true
   },
   "outputs": [],
   "source": [
    "# convert list to array\n",
    "f = np.array([2, 3, 1, 0])\n",
    "print(f)\n",
    "#print([1,2,3])"
   ]
  },
  {
   "cell_type": "code",
   "execution_count": null,
   "metadata": {
    "collapsed": true
   },
   "outputs": [],
   "source": [
    "# arange() will create arrays with regularly incrementing values\n",
    "g = np.arange(2,10)\n",
    "print(g)"
   ]
  },
  {
   "cell_type": "code",
   "execution_count": null,
   "metadata": {
    "collapsed": true
   },
   "outputs": [],
   "source": [
    "# note mix of tuple and lists\n",
    "h = np.array([[0,1,2.0],[0,0,0],(1+1j,3.,2.)])\n",
    "print(h)"
   ]
  },
  {
   "cell_type": "code",
   "execution_count": null,
   "metadata": {
    "collapsed": true
   },
   "outputs": [],
   "source": [
    "# create an array of range with float data type\n",
    "i = np.arange(1, 8, dtype=np.float)\n",
    "print(i)"
   ]
  },
  {
   "cell_type": "code",
   "execution_count": null,
   "metadata": {
    "collapsed": true
   },
   "outputs": [],
   "source": [
    "# linspace() will create arrays with a specified number of items which are\n",
    "# spaced equally between the specified beginning and end values\n",
    "j = np.linspace(2., 4., 5)\n",
    "print(j)"
   ]
  },
  {
   "cell_type": "code",
   "execution_count": null,
   "metadata": {
    "collapsed": true
   },
   "outputs": [],
   "source": [
    "# indices() will create a set of arrays stacked as a one-higher\n",
    "# dimensioned array, one per dimension with each representing variation\n",
    "# in that dimension\n",
    "k = np.indices((3,3))\n",
    "print(k)"
   ]
  },
  {
   "cell_type": "code",
   "execution_count": null,
   "metadata": {
    "collapsed": true
   },
   "outputs": [],
   "source": [
    "#NumPy datatypes\n",
    "# Let numpy choose the datatype\n",
    "x = np.array([0, 1])\n",
    "y = np.array([2.0, 3.0])\n",
    "# Force a particular datatype\n",
    "z = np.array([5, 6], dtype=np.int64)\n",
    "print(x.dtype, y.dtype, z.dtype)"
   ]
  },
  {
   "cell_type": "code",
   "execution_count": null,
   "metadata": {
    "collapsed": true
   },
   "outputs": [],
   "source": [
    "# Basic slicing : The basic slice syntax is i: j: k, \n",
    "# where i is the starting index,j is the stopping index,\n",
    "# and k is the step and k is not equal to 0.\n",
    "x = np.array([5, 6, 7, 8, 9])\n",
    "print(x[1:7:2])\n",
    "print(x[-2:5])\n",
    "print(x[-1:1:-1])"
   ]
  },
  {
   "cell_type": "code",
   "execution_count": null,
   "metadata": {
    "collapsed": true
   },
   "outputs": [],
   "source": [
    "#Boolean array indexing\n",
    "a=np.array([[1,2], [3, 4], [5, 6]])\n",
    "# Find the elements of a that are bigger than 2\n",
    "print (a > 2)\n",
    "# to get the actual value\n",
    "print (a[a > 2])"
   ]
  },
  {
   "cell_type": "code",
   "execution_count": null,
   "metadata": {
    "collapsed": true
   },
   "outputs": [],
   "source": [
    "import numpy as np\n",
    "x=np.array([[1,2],[3,4],[5,6]])\n",
    "y=np.array([[7,8],[9,10],[11,12]])\n",
    "# Elementwise sum; both produce the array\n",
    "print(x+y)\n",
    "print(np.add(x, y))\n",
    "# Elementwise difference; both produce the array\n",
    "print(x-y)\n",
    "print(np.subtract(x, y))"
   ]
  },
  {
   "cell_type": "code",
   "execution_count": null,
   "metadata": {
    "collapsed": true
   },
   "outputs": [],
   "source": [
    "# Elementwise product; both produce the array\n",
    "print(x*y)\n",
    "print(np.multiply(x, y))"
   ]
  },
  {
   "cell_type": "code",
   "execution_count": null,
   "metadata": {
    "collapsed": true
   },
   "outputs": [],
   "source": [
    "print(x/y)\n",
    "print(np.divide(x, y))"
   ]
  },
  {
   "cell_type": "code",
   "execution_count": null,
   "metadata": {
    "collapsed": true
   },
   "outputs": [],
   "source": [
    "print(np.sqrt(x))"
   ]
  },
  {
   "cell_type": "code",
   "execution_count": null,
   "metadata": {
    "collapsed": true
   },
   "outputs": [],
   "source": [
    "x=np.array([[1,2],[3,4]])\n",
    "y=np.array([[5,6],[7,8]])\n",
    "a=np.array([9,10])\n",
    "b=np.array([11, 12])\n",
    "# Inner product of vectors; both produce 219\n",
    "print(a.dot(b))\n",
    "print(np.dot(a, b))"
   ]
  },
  {
   "cell_type": "code",
   "execution_count": null,
   "metadata": {
    "collapsed": true
   },
   "outputs": [],
   "source": [
    "# Matrix / vector product; both produce the rank 1 array [29 67]\n",
    "print(x.dot(a))\n",
    "print(np.dot(x, a))"
   ]
  },
  {
   "cell_type": "code",
   "execution_count": null,
   "metadata": {
    "collapsed": true
   },
   "outputs": [],
   "source": [
    "# Matrix / matrix product; both produce the rank 2 array\n",
    "print(x.dot(y))\n",
    "print(np.dot(x, y))"
   ]
  },
  {
   "cell_type": "code",
   "execution_count": null,
   "metadata": {
    "collapsed": true
   },
   "outputs": [],
   "source": [
    "# Sum function\n",
    "x=np.array([[1,2],[3,4]])\n",
    "# Compute sum of all elements\n",
    "print (np.sum(x))\n",
    "# Compute sum of each column\n",
    "print (np.sum(x, axis=0))\n",
    "# Compute sum of each row\n",
    "print (np.sum(x, axis=1))"
   ]
  },
  {
   "cell_type": "code",
   "execution_count": null,
   "metadata": {
    "collapsed": true
   },
   "outputs": [],
   "source": [
    "#Transpose function\n",
    "x=np.array([[1,2], [3,4]])\n",
    "print(x)\n",
    "print(x.T)"
   ]
  },
  {
   "cell_type": "code",
   "execution_count": null,
   "metadata": {
    "collapsed": true
   },
   "outputs": [],
   "source": [
    "# Note that taking the transpose of a rank 1 array does nothing:\n",
    "v=np.array([1,2,3])\n",
    "print(v)\n",
    "print(v.T)"
   ]
  },
  {
   "cell_type": "raw",
   "metadata": {},
   "source": [
    "Broadcasting : Broadcasting enables arithmetic operations to be performed between different shaped arrays"
   ]
  },
  {
   "cell_type": "code",
   "execution_count": null,
   "metadata": {
    "collapsed": true
   },
   "outputs": [],
   "source": [
    "# Broadcasting using NumPy\n",
    "a = np.array([[1,2,3], [4,5,6], [7,8,9]])\n",
    "v = np.array([1, 0, 1])\n",
    "# Add v to each row of a using broadcasting\n",
    "b = a + v\n",
    "print(b)"
   ]
  },
  {
   "cell_type": "code",
   "execution_count": null,
   "metadata": {
    "collapsed": true
   },
   "outputs": [],
   "source": [
    "# Add a vector to each column of a matrix\n",
    "# x has shape (2, 3) and w has shape (2,).\n",
    "# If we transpose x then it has shape (3, 2) and can be broadcast\n",
    "# against w to yield a result of shape (3, 2); transposing this result\n",
    "# yields the final result of shape (2, 3) which is the matrix x with\n",
    "# the vector w added to each column\n",
    "x=np.array([[1,2,1], [3,4,1]])\n",
    "print(\"X.T:\\n\",x.T)\n",
    "w= np.array([1,1])\n",
    "print(\"W:\\n\",w)\n",
    "\n",
    "print(\"Final :\\n\",(x.T + w).T)\n"
   ]
  },
  {
   "cell_type": "code",
   "execution_count": null,
   "metadata": {
    "collapsed": true
   },
   "outputs": [],
   "source": [
    "# Multiply a matrix by a constant:\n",
    "# x has shape (2, 3). Numpy treats scalars as arrays of shape ();\n",
    "# these can be broadcast together to shape (2, 3)\n",
    "print(x * 2)"
   ]
  },
  {
   "cell_type": "markdown",
   "metadata": {},
   "source": [
    "# 6.1.2 : PANDAS"
   ]
  },
  {
   "cell_type": "code",
   "execution_count": null,
   "metadata": {
    "collapsed": true
   },
   "outputs": [],
   "source": [
    "import pandas as pd"
   ]
  },
  {
   "cell_type": "raw",
   "metadata": {},
   "source": [
    "Pandas are an open source Python package providing fast, flexible, and expressive data structures designed to make working with “relational” or “labeled” data both easy and intuitive.\n",
    "Pandas are well suited for tabular data with heterogeneously typed columns, as in an SQL table or Excel spreadsheet"
   ]
  },
  {
   "cell_type": "markdown",
   "metadata": {},
   "source": [
    "# Data Structures:\n",
    "Pandas introduces two new data structures to Python [ both of which are built on top of NumPy (this means it’s fast).]\n",
    "1. Series \n",
    "2. DataFrame \n",
    " "
   ]
  },
  {
   "cell_type": "markdown",
   "metadata": {},
   "source": [
    "1.Series :\n",
    "This is a one-dimensional object similar to column in a spreadsheet or SQL table. By default each item will be assigned an index label from 0 to N."
   ]
  },
  {
   "cell_type": "code",
   "execution_count": null,
   "metadata": {
    "collapsed": true
   },
   "outputs": [],
   "source": [
    "#Creating a pandas series\n",
    "# creating a series by passing a list of values, and a custom index label.\n",
    "#Note that the labeled index reference for each row and it can have\n",
    "#duplicate values\n",
    "s = pd.Series([1,2,3,np.nan,5,6], index=['A','B','C','D','E','F'])\n",
    "print(s)"
   ]
  },
  {
   "cell_type": "markdown",
   "metadata": {},
   "source": [
    "2.DataFrame :\n",
    "It is a two-dimensional object similar to a spreadsheet or an SQL table. This is the most commonly used pandas object"
   ]
  },
  {
   "cell_type": "code",
   "execution_count": null,
   "metadata": {
    "collapsed": true
   },
   "outputs": [],
   "source": [
    "#Creating a pandas dataframe\n",
    "data = {'Gender': ['F', 'M', 'M'],'Emp_ID': ['E01', 'E02',\n",
    "'E03'], 'Age': [25, 27, 25]}\n",
    "# We want the order the columns, so lets specify in columns parameter\n",
    "df = pd.DataFrame(data, columns=['Emp_ID','Gender', 'Age'])\n",
    "df"
   ]
  },
  {
   "cell_type": "markdown",
   "metadata": {},
   "source": [
    "# Reading and Writing Data"
   ]
  },
  {
   "cell_type": "code",
   "execution_count": null,
   "metadata": {
    "collapsed": true
   },
   "outputs": [],
   "source": [
    "#Reading / writing data from csv, text, Excel\n",
    "\n",
    "# Reading frome csv\n",
    "df=pd.read_csv('C:/Users/Dr.Thyagaraju/Desktop/Data/PF/CSV/CHS2.csv') \n",
    "print(\"READ CSV:\\n\",df)\n",
    "#Writing to csv\n",
    "df.to_csv('C:/Users/Dr.Thyagaraju/Desktop/Data/PF/CSV/CHS0.csv', index=False)\n",
    "print(\"WRITE CSV:\\n\",df)\n",
    "\n",
    "# Reading from text Files \n",
    "df=pd.read_csv('C:/Users/Dr.Thyagaraju/Desktop/Data/PF/TEXT/ex.txt', sep='\\t') # from text file\n",
    "print(\"READ TXT:\\n\",df)\n",
    "#Writing to text Files\n",
    "df.to_csv('C:/Users/Dr.Thyagaraju/Desktop/Data/PF/TEXT/ex0.txt', sep='\\t', index=False)\n",
    "print(\"WRITE TXT:\\n\",df)\n",
    "\n",
    "#Reading from Excel File \n",
    "df=pd.read_excel('C:/Users/Dr.Thyagaraju/Desktop/Data/PF/EXCEL/Heart_Patient.xlsx','Sheet1') # from Excel\n",
    "print(\"READ EXCEL:\\n\",df)\n",
    "\n",
    "#Writing to Excel File\n",
    "df.to_excel('C:/Users/Dr.Thyagaraju/Desktop/Data/PF/EXCEL/Heart_Patient0.xlsx',sheet_name='Sheet1', index = False)\n",
    "print(\"WRITE EXCEL:\\n\",df)\n",
    "\n",
    "# reading from multiple sheets of same Excel into different dataframes\n",
    "xlsx = pd.ExcelFile('C:/Users/Dr.Thyagaraju/Desktop/Data/PF/EXCEL/Heart_Patient.xlsx')\n",
    "sheet1_df = pd.read_excel(xlsx, 'Sheet1')\n",
    "print(\"EXCEL SHEET1:\\n\",sheet1_df)\n",
    "sheet2_df = pd.read_excel(xlsx, 'Sheet2')\n",
    "print(\"EXCEL SHEET2:\\n\",sheet2_df)\n",
    "\n",
    "# writing\n",
    "# index = False parameter will not write the index values, default is True\n"
   ]
  },
  {
   "cell_type": "markdown",
   "metadata": {},
   "source": [
    "# Loading Data From URL"
   ]
  },
  {
   "cell_type": "code",
   "execution_count": null,
   "metadata": {
    "collapsed": true
   },
   "outputs": [],
   "source": [
    "# Load CSV from URL using NumPy\n",
    "from numpy import loadtxt\n",
    "from urllib.request import urlopen\n",
    "url = 'https://raw.githubusercontent.com/jbrownlee/Datasets/master/pima-indians-diabetes.data.csv'\n",
    "raw_data = pd.read_csv(urlopen(url))\n",
    "print(raw_data.shape)\n",
    "print(raw_data.head())"
   ]
  },
  {
   "cell_type": "markdown",
   "metadata": {},
   "source": [
    "# Loading Data From Library"
   ]
  },
  {
   "cell_type": "code",
   "execution_count": null,
   "metadata": {
    "collapsed": true
   },
   "outputs": [],
   "source": []
  },
  {
   "cell_type": "code",
   "execution_count": null,
   "metadata": {
    "collapsed": true
   },
   "outputs": [],
   "source": [
    "from sklearn.datasets import load_iris\n",
    "import numpy as np\n",
    "iris=load_iris()\n",
    "#iris = datasets.load_iris()\n",
    "X = pd.DataFrame(iris.data)\n",
    "X.columns = ['Sepal_Length','Sepal_Width','Petal_Length','Petal_Width']\n",
    "#X.head()\n",
    "print(\"Shape:\\n\",X.shape)\n",
    "print(\"Head:\\n\",X.head(5))\n",
    "print(\"Tail:\\n\",X.tail(5))"
   ]
  },
  {
   "cell_type": "markdown",
   "metadata": {},
   "source": [
    "# Basic Statistics Summary"
   ]
  },
  {
   "cell_type": "markdown",
   "metadata": {},
   "source": [
    "Pandas has some built-in functions to help us to get better understanding of data using basic statistical summary methods\n",
    "describe()- will returns the quick stats such as count, mean, std (standard\n",
    "deviation), min, first quartile, median, third quartile, max on each column\n",
    "of the dataframe"
   ]
  },
  {
   "cell_type": "code",
   "execution_count": null,
   "metadata": {
    "collapsed": true
   },
   "outputs": [],
   "source": [
    "df = pd.DataFrame(iris.data)\n",
    "df.columns = ['Sepal_Length','Sepal_Width','Petal_Length','Petal_Width']\n",
    "df.describe()"
   ]
  },
  {
   "cell_type": "markdown",
   "metadata": {},
   "source": [
    "cov() - Covariance indicates how two variables are related. A positive\n",
    "covariance means the variables are positively related, while a negative\n",
    "covariance means the variables are inversely related. Drawback of covariance is that it does not tell you the degree of positive or negative relation"
   ]
  },
  {
   "cell_type": "code",
   "execution_count": null,
   "metadata": {
    "collapsed": true
   },
   "outputs": [],
   "source": [
    "df.cov()"
   ]
  },
  {
   "cell_type": "markdown",
   "metadata": {},
   "source": [
    "corr() - Correlation is another way to determine how two variables are\n",
    "related. In addition to telling you whether variables are positively or\n",
    "inversely related, correlation also tells you the degree to which the\n",
    "variables tend to move together. When you say that two items correlate, you\n",
    "are saying that the change in one item effects a change in another item. You will always talk about correlation as a range between -1 and 1. In the below example code, petal length is 87% positively related to sepal length that means a change in petal length results in a positive 87% change to sepal lenth and vice versa."
   ]
  },
  {
   "cell_type": "code",
   "execution_count": null,
   "metadata": {
    "collapsed": true
   },
   "outputs": [],
   "source": [
    "df.corr()"
   ]
  },
  {
   "cell_type": "markdown",
   "metadata": {},
   "source": [
    "# Grouping"
   ]
  },
  {
   "cell_type": "markdown",
   "metadata": {},
   "source": [
    "Grouping involves one or more of the following steps:\n",
    "• Splitting the data into groups based on some criteria,\n",
    "• Applying a function to each group independently,\n",
    "• Combining the results into a data structure"
   ]
  },
  {
   "cell_type": "code",
   "execution_count": null,
   "metadata": {
    "collapsed": true
   },
   "outputs": [],
   "source": [
    "#Grouping operation\n",
    "df = pd.DataFrame({'Name' : ['jack', 'jane', 'jack', 'jane', 'jack', 'jane',\n",
    "'jack', 'jane'],'State' : ['SFO', 'SFO', 'NYK', 'CA', 'NYK', 'NYK','SFO', 'CA'],\n",
    "'Grade':['A','A','B','A','C','B','C','A'],\n",
    "'Age' : np.random.uniform(24, 50, size=8),\n",
    "'Salary' : np.random.uniform(3000, 5000, size=8),})\n",
    "# Note that the columns are ordered automatically in their alphabetic order\n",
    "print(df)\n",
    "# for custom order please use below code\n",
    "# df = pd.DataFrame(data, columns = ['Name', 'State', 'Age','Salary'])\n",
    "# Find max age and salary by Name / State\n",
    "# with groupby, we can use all aggregate functions such as min, max, mean,\n",
    "#count, cumsum\n",
    "df.groupby(['Name','State']).max()"
   ]
  },
  {
   "cell_type": "markdown",
   "metadata": {},
   "source": [
    "# 7.0 Matplotlib"
   ]
  },
  {
   "cell_type": "code",
   "execution_count": null,
   "metadata": {
    "collapsed": true
   },
   "outputs": [],
   "source": [
    "import matplotlib.pyplot as plt"
   ]
  },
  {
   "cell_type": "markdown",
   "metadata": {},
   "source": [
    "Matplotlib is a numerical mathematics extension NumPy and a great package to view or present data in a pictorial or graphical format. It enables analysts and decision makers to see analytics presented visually, so they can grasp difficult concepts or identify new patterns. There are two broad ways of using pyplot.\n",
    "# 1. Using Global Functions\n",
    "The most common and easy approach is by using global functions to build and display a global figure using matplotlib as a global state machine. Some of the most commonly used charts. \n",
    "      \n",
    "    # plt.scatter – makes a scatter plot\n",
    "    # plt.bar – creates a bar chart\n",
    "    # plt.boxplot – makes a box and whisker plot\n",
    "    # plt.hist – makes a histogram\n",
    "    # plt.plot – creates a line plot"
   ]
  },
  {
   "cell_type": "code",
   "execution_count": null,
   "metadata": {
    "collapsed": true
   },
   "outputs": [],
   "source": [
    "# Creating plot on variables\n",
    "# simple bar and scatter plot\n",
    "\n",
    "x = np.arange(5) # assume there are 5 students\n",
    "y = (20, 35, 30, 35, 27) # their test scores\n",
    "plt.bar(x,y) # Bar plot\n",
    "\n",
    "# need to close the figure using show() or close(), if not closed\n",
    "# any follow plot commands will use same figure.\n",
    "\n",
    "plt.show() # Try commenting this an run\n",
    "plt.scatter(x,y) # scatter plot\n",
    "plt.show()"
   ]
  },
  {
   "cell_type": "code",
   "execution_count": null,
   "metadata": {
    "collapsed": true
   },
   "outputs": [],
   "source": [
    "# Read sample data\n",
    "df = pd.DataFrame(iris.data)\n",
    "df.columns = ['Sepal_Length','Sepal_Width','Petal_Length','Petal_Width']\n",
    "print(\"Histogram:\\n\")\n",
    "df.hist()# Histogram\n",
    "plt.show()\n",
    "print(\"Line Graph:\\n\")\n",
    "df.plot() # Line Graph\n",
    "plt.show()\n",
    "print(\"Box Plot:\\n\")\n",
    "df.boxplot() # Box plot\n",
    "plt.show()"
   ]
  },
  {
   "cell_type": "markdown",
   "metadata": {},
   "source": [
    "# Customizing Labels"
   ]
  },
  {
   "cell_type": "code",
   "execution_count": null,
   "metadata": {
    "collapsed": true
   },
   "outputs": [],
   "source": [
    "#Customize labels\n",
    "\n",
    "# generate sample data\n",
    "x = np.linspace(0, 20, 1000) #100 evenly-spaced values from 0 to 50\n",
    "y = np.sin(x)\n",
    "\n",
    "# customize axis labels\n",
    "plt.plot(x, y, label = 'Sample Label')\n",
    "plt.title('Sample Plot Title') # chart title\n",
    "plt.xlabel('x axis label') # x axis title\n",
    "plt.ylabel('y axis label') # y axis title\n",
    "plt.grid(True) # show gridlines\n",
    "\n",
    "# add footnote\n",
    "plt.figtext(0.5, 0.01, 'Fig1: Sinusoidal', ha='right', va='bottom')\n",
    "\n",
    "# add legend, location pick the best automatically\n",
    "plt.legend(loc='best', framealpha=0.5, prop={'size':'small'})\n",
    "\n",
    "# tight_layout() can take keyword arguments of pad, w_pad and h_pad.\n",
    "# these control the extra padding around the figure border and between\n",
    "#subplots. The pads are specified in fraction of fontsize.\n",
    "plt.tight_layout(pad=1)\n",
    "\n",
    "# Saving chart to a file\n",
    "#plt.savefig('filename.png')\n",
    "#plt.close() \n",
    "# Close the current window to allow new plot creation on\n",
    "#separate window / axis, alternatively we can use show()\n",
    "plt.show()"
   ]
  },
  {
   "cell_type": "markdown",
   "metadata": {},
   "source": [
    "# 8.0 Machine Learning Libraries"
   ]
  },
  {
   "cell_type": "code",
   "execution_count": null,
   "metadata": {
    "collapsed": true
   },
   "outputs": [],
   "source": [
    "# Python version\n",
    "import sys\n",
    "print('Python: {}'.format(sys.version))\n",
    "# scipy\n",
    "import scipy\n",
    "print('scipy: {}'.format(scipy.__version__))\n",
    "# numpy\n",
    "import numpy\n",
    "print('numpy: {}'.format(numpy.__version__))\n",
    "# matplotlib\n",
    "import matplotlib\n",
    "print('matplotlib: {}'.format(matplotlib.__version__))\n",
    "# pandas\n",
    "import pandas\n",
    "print('pandas: {}'.format(pandas.__version__))\n",
    "# scikit-learn\n",
    "import sklearn\n",
    "print('sklearn: {}'.format(sklearn.__version__))\n",
    "import seaborn\n",
    "print('seaborn: {}'.format(seaborn.__version__))\n",
    "import pgmpy\n",
    "print('pgmpy: {}'.format(pgmpy.__name__))\n",
    "import urllib\n",
    "print('urlib: {}'.format(urllib.__name__))\n",
    "import csv\n",
    "print('csv: {}'.format(csv.__version__))"
   ]
  },
  {
   "cell_type": "markdown",
   "metadata": {},
   "source": [
    "# 8.1 Scipy"
   ]
  },
  {
   "cell_type": "markdown",
   "metadata": {},
   "source": [
    "SciPy, pronounced as Sigh Pi, is a scientific python open source, distributed under the BSD licensed library to perform Mathematical, Scientific and Engineering Computations.\n",
    "The SciPy library depends on NumPy, which provides convenient and fast N-dimensional array manipulation. The SciPy library is built to work with NumPy arrays and provides many user-friendly and efficient numerical practices such as routines for numerical integration and optimization. Together, they run on all popular operating systems, are quick to install and are free of charge. NumPy and SciPy are easy to use, but powerful enough to depend on by some of the world's leading scientists and engineers."
   ]
  },
  {
   "cell_type": "code",
   "execution_count": null,
   "metadata": {
    "collapsed": true
   },
   "outputs": [],
   "source": [
    "import numpy as np\n",
    "print(np.linspace(1., 4., 6))"
   ]
  },
  {
   "cell_type": "code",
   "execution_count": null,
   "metadata": {
    "collapsed": true
   },
   "outputs": [],
   "source": [
    "#K-Means Implementation in SciPy\n",
    "from scipy.cluster.vq import kmeans,vq,whiten\n",
    "from numpy import vstack,array\n",
    "from numpy.random import rand\n",
    "\n",
    "# data generation with three features\n",
    "data = vstack((rand(100,3) + array([.5,.5,.5]),rand(100,3)))\n",
    "#print(data)\n",
    "# whitening of data for normalizing\n",
    "data = whiten(data)\n",
    "#print(data)\n",
    "# computing K-Means with K = 3 (2 clusters)\n",
    "centroids,_ = kmeans(data,3)\n",
    "print(\"Centroids:\\n\",centroids)\n",
    "# assign each sample to a cluster\n",
    "clx,_ = vq(data,centroids)\n",
    "print(\"Cluster:\\n\",clx)"
   ]
  },
  {
   "cell_type": "code",
   "execution_count": null,
   "metadata": {
    "collapsed": true
   },
   "outputs": [],
   "source": [
    "#Fast Fourier Transform\n",
    "#Importing the fft and inverse fft functions from fftpackage\n",
    "from scipy.fftpack import fft\n",
    "\n",
    "#create an array with random n numbers\n",
    "x = np.array([1.0, 2.0, 1.0, -1.0, 1.5])\n",
    "\n",
    "#Applying the fft function\n",
    "y = fft(x)\n",
    "print(\"FFT :\\n\",y)\n",
    "\n",
    "from scipy.fftpack import ifft\n",
    "yinv = ifft(y)\n",
    "print(\"FFT Inverse:\\n\",yinv)"
   ]
  },
  {
   "cell_type": "code",
   "execution_count": null,
   "metadata": {
    "collapsed": true
   },
   "outputs": [],
   "source": [
    "#Discrete Cosine Transform\n",
    "from scipy.fftpack import dct\n",
    "print (\"DCT:\\n\",dct(np.array([4., 3., 5., 10., 5., 3.])))\n",
    "\n",
    "#Inverse Discrete Cosine Transform\n",
    "from scipy.fftpack import idct\n",
    "print(\"IDCT:\\n\",idct(np.array([4., 3., 5., 10., 5., 3.])))"
   ]
  },
  {
   "cell_type": "markdown",
   "metadata": {},
   "source": [
    "# SciPy - Integrate\n",
    "The general form of quad is scipy.integrate.quad(f, a, b), Where ‘f’ is the name of the function to be integrated. Whereas, ‘a’ and ‘b’ are the lower and upper limits, respectively. Let us see an example of the Gaussian function, integrated over a range of 0 and 1.\n",
    "$$ f(x)= (e^x)^2 $$ \n",
    "# ∫f(x)dx"
   ]
  },
  {
   "cell_type": "code",
   "execution_count": null,
   "metadata": {
    "collapsed": true
   },
   "outputs": [],
   "source": [
    "# Single Integration \n",
    "import scipy.integrate\n",
    "from numpy import exp\n",
    "f= lambda x:exp(-x**2)\n",
    "i = scipy.integrate.quad(f, 0, 1)\n",
    "print(i) "
   ]
  },
  {
   "cell_type": "markdown",
   "metadata": {},
   "source": [
    "# Linear Algebra\n",
    "# x + 3y + 5z = 10\n",
    "# 2x + 5y + z = 8\n",
    "# 2x + 3y + 8z = 3"
   ]
  },
  {
   "cell_type": "code",
   "execution_count": null,
   "metadata": {
    "collapsed": true
   },
   "outputs": [],
   "source": [
    "#importing the scipy and numpy packages\n",
    "from scipy import linalg\n",
    "import numpy as np\n",
    "\n",
    "#Declaring the numpy arrays\n",
    "a = np.array([[1, 3, 5], [2, 5, 1], [2, 3, 8]])\n",
    "b = np.array([10, 8, 3])\n",
    "\n",
    "#Passing the values to the solve function\n",
    "X = linalg.solve(a, b)\n",
    "\n",
    "#printing the result array\n",
    "print (X)"
   ]
  },
  {
   "cell_type": "markdown",
   "metadata": {},
   "source": [
    "# Finding a Determinant"
   ]
  },
  {
   "cell_type": "code",
   "execution_count": null,
   "metadata": {
    "collapsed": true
   },
   "outputs": [],
   "source": [
    "#importing the scipy and numpy packages\n",
    "from scipy import linalg\n",
    "import numpy as np\n",
    "\n",
    "#Declaring the numpy array\n",
    "A = np.array([[1,2],[3,4]])\n",
    "\n",
    "#Passing the values to the det function\n",
    "x = linalg.det(A)\n",
    "\n",
    "#printing the result\n",
    "print (x)"
   ]
  },
  {
   "cell_type": "markdown",
   "metadata": {},
   "source": [
    "# Eigenvalues and Eigenvectors"
   ]
  },
  {
   "cell_type": "code",
   "execution_count": null,
   "metadata": {
    "collapsed": true
   },
   "outputs": [],
   "source": [
    "#importing the scipy and numpy packages\n",
    "from scipy import linalg\n",
    "import numpy as np\n",
    "\n",
    "#Declaring the numpy array\n",
    "A = np.array([[1,2],[3,4]])\n",
    "\n",
    "#Passing the values to the eig function\n",
    "l, v = linalg.eig(A)\n",
    "\n",
    "#printing the result for eigen values\n",
    "print (\"Eigen Values :\\n\",l)\n",
    "\n",
    "#printing the result for eigen vectors\n",
    "print (\"Eigen Vectors:\\n\",v)"
   ]
  },
  {
   "cell_type": "markdown",
   "metadata": {},
   "source": [
    "# Image Processing "
   ]
  },
  {
   "cell_type": "code",
   "execution_count": null,
   "metadata": {
    "collapsed": true
   },
   "outputs": [],
   "source": [
    "from scipy import misc\n",
    "f = misc.face()\n",
    "misc.imsave('face.png', f) # uses the Image module (PIL)\n",
    "\n",
    "import matplotlib.pyplot as plt\n",
    "plt.imshow(f)\n",
    "plt.show()"
   ]
  },
  {
   "cell_type": "code",
   "execution_count": null,
   "metadata": {
    "collapsed": true
   },
   "outputs": [],
   "source": [
    "# Statistical Information of the image \n",
    "from scipy import misc\n",
    "face = misc.face(gray = False)\n",
    "print(face.mean(), face.max(), face.min())"
   ]
  },
  {
   "cell_type": "code",
   "execution_count": null,
   "metadata": {
    "collapsed": true
   },
   "outputs": [],
   "source": [
    "# Cropping\n",
    "from scipy import misc\n",
    "face = misc.face(gray = True)\n",
    "lx,ly = face.shape\n",
    "# Cropping\n",
    "crop_face = face[lx//4 : -lx//4 , ly//4 : -ly//4]\n",
    "import matplotlib.pyplot as plt\n",
    "plt.imshow(crop_face)\n",
    "plt.show()"
   ]
  },
  {
   "cell_type": "code",
   "execution_count": null,
   "metadata": {
    "collapsed": true
   },
   "outputs": [],
   "source": [
    "# up <-> down flip\n",
    "from scipy import misc\n",
    "face = misc.face()\n",
    "flip_ud_face = np.flipud(face)\n",
    "\n",
    "import matplotlib.pyplot as plt\n",
    "plt.imshow(flip_ud_face)\n",
    "plt.show()"
   ]
  },
  {
   "cell_type": "code",
   "execution_count": null,
   "metadata": {
    "collapsed": true
   },
   "outputs": [],
   "source": [
    "# rotation\n",
    "from scipy import misc,ndimage\n",
    "face = misc.face()\n",
    "rotate_face = ndimage.rotate(face, 45)\n",
    "\n",
    "import matplotlib.pyplot as plt\n",
    "plt.imshow(rotate_face)\n",
    "plt.show()"
   ]
  },
  {
   "cell_type": "code",
   "execution_count": null,
   "metadata": {
    "collapsed": true
   },
   "outputs": [],
   "source": [
    "# Blurring \n",
    "from scipy import misc\n",
    "face = misc.face()\n",
    "blurred_face = ndimage.gaussian_filter(face, sigma=3)\n",
    "import matplotlib.pyplot as plt\n",
    "plt.imshow(blurred_face)\n",
    "plt.show()"
   ]
  },
  {
   "cell_type": "code",
   "execution_count": null,
   "metadata": {
    "collapsed": true
   },
   "outputs": [],
   "source": [
    "# Edge Detection\n",
    "import scipy.ndimage as nd\n",
    "import numpy as np\n",
    "\n",
    "im = np.zeros((256, 256))\n",
    "im[64:-64, 64:-64] = 1\n",
    "im[90:-90,90:-90] = 2\n",
    "im = ndimage.gaussian_filter(im, 0)\n",
    "\n",
    "import matplotlib.pyplot as plt\n",
    "plt.imshow(im)\n",
    "plt.show()"
   ]
  },
  {
   "cell_type": "code",
   "execution_count": null,
   "metadata": {
    "collapsed": true
   },
   "outputs": [],
   "source": [
    "import matplotlib.pyplot as plt\n",
    "import matplotlib.image as mpimg\n",
    "import numpy as np\n",
    "img=mpimg.imread('C:/Users/Dr.Thyagaraju/Desktop/Data/Image/C1.jpg')\n",
    "#print(img)\n",
    "plt.imshow(img)\n",
    "plt.show()"
   ]
  },
  {
   "cell_type": "markdown",
   "metadata": {},
   "source": [
    "# 8.2 sklearn "
   ]
  },
  {
   "cell_type": "markdown",
   "metadata": {},
   "source": [
    "Scikit-learn provides a range of supervised and unsupervised learning algorithms via a consistent interface in Python.It is licensed under a permissive simplified BSD license and is distributed under many Linux distributions, encouraging academic and commercial use.\n",
    "The library is built upon the SciPy (Scientific Python) that must be installed before you can use scikit-learn. This stack that includes:\n",
    "NumPy: Base n-dimensional array package\n",
    "SciPy: Fundamental library for scientific computing\n",
    "Matplotlib: Comprehensive 2D/3D plotting\n",
    "IPython: Enhanced interactive console\n",
    "Sympy: Symbolic mathematics\n",
    "Pandas: Data structures and analysis"
   ]
  },
  {
   "cell_type": "code",
   "execution_count": null,
   "metadata": {
    "collapsed": true
   },
   "outputs": [],
   "source": [
    "import sklearn"
   ]
  },
  {
   "cell_type": "markdown",
   "metadata": {},
   "source": [
    "# Scikit Learn Loading Dataset"
   ]
  },
  {
   "cell_type": "code",
   "execution_count": null,
   "metadata": {
    "collapsed": true
   },
   "outputs": [],
   "source": [
    "from sklearn import datasets"
   ]
  },
  {
   "cell_type": "code",
   "execution_count": null,
   "metadata": {
    "collapsed": true
   },
   "outputs": [],
   "source": [
    "# Data sets available in sklearn\n",
    "iris= datasets.load_iris()\n",
    "houseprice = datasets.load_boston()\n",
    "diabetes = datasets.load_diabetes()\n",
    "digits = datasets.load_digits()\n",
    "linerud= datasets.load_linnerud()   #Fitness Club Data Set\n",
    "wine = datasets.load_wine()\n",
    "breastcancer = datasets.load_breast_cancer()"
   ]
  },
  {
   "cell_type": "code",
   "execution_count": null,
   "metadata": {
    "collapsed": true
   },
   "outputs": [],
   "source": [
    "print(digits.target_names)\n",
    "print(digits.data[0])"
   ]
  },
  {
   "cell_type": "code",
   "execution_count": null,
   "metadata": {
    "collapsed": true
   },
   "outputs": [],
   "source": [
    "print(houseprice.feature_names)\n",
    "print(houseprice.data[0])"
   ]
  },
  {
   "cell_type": "code",
   "execution_count": null,
   "metadata": {
    "collapsed": true
   },
   "outputs": [],
   "source": [
    "print(diabetes.feature_names)\n",
    "print(diabetes.data[0])"
   ]
  },
  {
   "cell_type": "code",
   "execution_count": null,
   "metadata": {
    "collapsed": true
   },
   "outputs": [],
   "source": [
    "print(linerud.data[0])\n",
    "print(linerud.feature_names)"
   ]
  },
  {
   "cell_type": "code",
   "execution_count": null,
   "metadata": {
    "collapsed": true
   },
   "outputs": [],
   "source": [
    "print(wine.feature_names)\n",
    "print(wine.data[0])"
   ]
  },
  {
   "cell_type": "code",
   "execution_count": null,
   "metadata": {
    "collapsed": true
   },
   "outputs": [],
   "source": [
    "print(breastcancer.feature_names)\n",
    "print(breastcancer.data[0])"
   ]
  },
  {
   "cell_type": "code",
   "execution_count": null,
   "metadata": {
    "collapsed": true
   },
   "outputs": [],
   "source": [
    "# Print shape of data to confirm data is loaded\n",
    "print(\"IRIS:\\n\",iris.data.shape)\n",
    "print(\"HOUSEPRICE:\\n\",houseprice.data.shape)\n",
    "print(\"DIABETES:\\n\",diabetes.data.shape)\n",
    "print(\"DIGITS:\\n\",digits.data.shape)\n",
    "print(\"LINERUD:\\n\",linerud.data.shape)\n",
    "print(\"WINE:\\n\",wine.data.shape)\n",
    "print(\"BREASTCANCER:\\n\",breastcancer.data.shape)"
   ]
  },
  {
   "cell_type": "code",
   "execution_count": null,
   "metadata": {
    "collapsed": true
   },
   "outputs": [],
   "source": [
    "# see what’s available in iris:\n",
    "iris.keys()\n",
    "print(\"IRIS KEYS:\\n\",iris.keys())\n",
    "n_samples, n_features = iris.data.shape\n",
    "print (\"IRIS # SAMPLES:\\n\",n_samples)\n",
    "print (\"IRIS # FEATURES:\\n\",n_features)\n",
    "print (\"IRIS FIRST FEW ROWS:\\n\",iris.data[0:10])\n",
    "print(\"IRIS TARGETS NAMES\",iris.target_names)\n",
    "print(\"IRIS FEATURE NAMES\",iris.feature_names)\n",
    "print(\"IRIS TARGET\",iris.target)\n",
    "print(\"IRIS DESCR\",iris.DESCR)\n",
    "iris_X = iris.data\n",
    "iris_y = iris.target\n",
    "np.unique(iris_y)\n"
   ]
  },
  {
   "cell_type": "code",
   "execution_count": null,
   "metadata": {
    "collapsed": true
   },
   "outputs": [],
   "source": [
    "# Split iris data in train and test data\n",
    "# A random permutation, to split the data randomly\n",
    "np.random.seed(0)\n",
    "indices = np.random.permutation(len(iris_X))\n",
    "iris_X_train = iris_X[indices[:-10]]\n",
    "iris_y_train = iris_y[indices[:-10]]\n",
    "iris_X_test = iris_X[indices[-10:]]\n",
    "iris_y_test = iris_y[indices[-10:]]\n",
    "# Create and fit a nearest-neighbor classifier\n",
    "from sklearn.neighbors import KNeighborsClassifier\n",
    "knn = KNeighborsClassifier()\n",
    "knn.fit(iris_X_train, iris_y_train)\n",
    "KNeighborsClassifier(algorithm='auto', leaf_size=30, metric='minkowski',\n",
    "metric_params=None, n_jobs=1, n_neighbors=5, p=2,\n",
    "weights='uniform')\n",
    "print(\"Predicted :\\n\",knn.predict(iris_X_test))\n",
    "print(\"Actual:\\n\",iris_y_test)"
   ]
  },
  {
   "cell_type": "markdown",
   "metadata": {},
   "source": [
    "# Linear regression"
   ]
  },
  {
   "cell_type": "markdown",
   "metadata": {},
   "source": [
    "LinearRegression, in its simplest form, fits a linear model to the data set by adjusting a set of parameters in order to make the sum of the squared residuals of the model as small as possible"
   ]
  },
  {
   "cell_type": "code",
   "execution_count": null,
   "metadata": {
    "collapsed": true
   },
   "outputs": [],
   "source": [
    "diabetes = datasets.load_diabetes()\n",
    "diabetes_X_train = diabetes.data[:-20]\n",
    "diabetes_X_test = diabetes.data[-20:]\n",
    "diabetes_y_train = diabetes.target[:-20]\n",
    "diabetes_y_test = diabetes.target[-20:]\n"
   ]
  },
  {
   "cell_type": "code",
   "execution_count": null,
   "metadata": {
    "collapsed": true
   },
   "outputs": [],
   "source": [
    "from sklearn import linear_model\n",
    "regr = linear_model.LinearRegression()\n",
    "regr.fit(diabetes_X_train, diabetes_y_train)\n",
    "print(\"Regression Coef:\\n\",regr.coef_)\n",
    "print(\"Mean:\\n\",np.mean((regr.predict(diabetes_X_test)-diabetes_y_test)**2))\n",
    "# Explained variance score: 1 is perfect prediction\n",
    "# and 0 means that there is no linear relationship\n",
    "# between X and y.\n",
    "regr.score(diabetes_X_test, diabetes_y_test)"
   ]
  },
  {
   "cell_type": "code",
   "execution_count": null,
   "metadata": {
    "collapsed": true
   },
   "outputs": [],
   "source": [
    "# Sample Decision Tree Classifier\n",
    "from sklearn import datasets\n",
    "from sklearn import metrics\n",
    "from sklearn.tree import DecisionTreeClassifier\n",
    "# load the iris datasets\n",
    "dataset = datasets.load_iris()\n",
    "# fit a CART model to the data\n",
    "model = DecisionTreeClassifier()\n",
    "model.fit(dataset.data, dataset.target)\n",
    "print(model)\n",
    "# make predictions\n",
    "expected = dataset.target\n",
    "predicted = model.predict(dataset.data)\n",
    "# summarize the fit of the model\n",
    "print(metrics.classification_report(expected, predicted))\n",
    "print(metrics.confusion_matrix(expected, predicted))"
   ]
  },
  {
   "cell_type": "markdown",
   "metadata": {},
   "source": [
    "# 8.3 pgmpy"
   ]
  },
  {
   "cell_type": "markdown",
   "metadata": {},
   "source": [
    "# Probabilistic Graphical Models using pgmpy"
   ]
  },
  {
   "cell_type": "markdown",
   "metadata": {},
   "source": [
    "Probabilistic Graphical Model is a way of compactly representing Joint Probability distribution over random variables using the independence conditions of the variables"
   ]
  },
  {
   "cell_type": "code",
   "execution_count": null,
   "metadata": {
    "collapsed": true
   },
   "outputs": [],
   "source": [
    "import pgmpy"
   ]
  },
  {
   "cell_type": "code",
   "execution_count": null,
   "metadata": {
    "collapsed": true
   },
   "outputs": [],
   "source": [
    "# Generate data\n",
    "import numpy as np\n",
    "import pandas as pd\n",
    "\n",
    "raw_data = np.array([0] * 30 + [1] * 70) # Representing heads by 0 and tails by 1\n",
    "data = pd.DataFrame(raw_data, columns=['coin'])\n",
    "print(data[25:35])"
   ]
  },
  {
   "cell_type": "code",
   "execution_count": null,
   "metadata": {
    "collapsed": true
   },
   "outputs": [],
   "source": [
    "# Defining the Bayesian Model\n",
    "from pgmpy.models import BayesianModel\n",
    "from pgmpy.estimators import MaximumLikelihoodEstimator, BayesianEstimator\n",
    "\n",
    "model = BayesianModel()\n",
    "model.add_node('coin')\n",
    "\n",
    "# Fitting the data to the model using Maximum Likelihood Estimator\n",
    "model.fit(data, estimator=MaximumLikelihoodEstimator)\n",
    "print(model.get_cpds('coin'))"
   ]
  },
  {
   "cell_type": "code",
   "execution_count": null,
   "metadata": {
    "collapsed": true
   },
   "outputs": [],
   "source": [
    "# Fitting the data to the model using Bayesian Estimator with Dirichlet prior with equal pseudo counts.\n",
    "model.fit(data, estimator=BayesianEstimator, prior_type='dirichlet', pseudo_counts={'coin': [50, 50]})\n",
    "print(model.get_cpds('coin'))"
   ]
  },
  {
   "cell_type": "markdown",
   "metadata": {},
   "source": [
    "We can see that we get the results as expected. In the maximum likelihood case we got the probability just based on the data where as in the bayesian case we had a prior of  P(H) = 0.5  and  P(T) = 0.5 , therefore with 30% heads and 70% tails in the data we got a posterior of  P(H) = 0.4  and  P(T) = 0.6 .\n",
    "Similarly we can learn in case of more complex model. Let's take an example of the student model and compare the results in case of Maximum Likelihood estimator and Bayesian Estimator."
   ]
  },
  {
   "cell_type": "code",
   "execution_count": null,
   "metadata": {
    "collapsed": true
   },
   "outputs": [],
   "source": [
    "# Generating radom data with each variable have 2 states and equal probabilities for each state\n",
    "import numpy as np\n",
    "import pandas as pd\n",
    "\n",
    "raw_data = np.random.randint(low=0, high=2, size=(1000, 5))\n",
    "data = pd.DataFrame(raw_data, columns=['D', 'I', 'G', 'L', 'S'])\n",
    "print(data[100: 111])"
   ]
  },
  {
   "cell_type": "code",
   "execution_count": null,
   "metadata": {
    "collapsed": true
   },
   "outputs": [],
   "source": [
    "# Defining the model\n",
    "from pgmpy.models import BayesianModel\n",
    "from pgmpy.estimators import MaximumLikelihoodEstimator, BayesianEstimator\n",
    "\n",
    "model = BayesianModel([('D', 'G'), ('I', 'G'), ('I', 'S'), ('G', 'L')])\n",
    "\n",
    "# Learing CPDs using Maximum Likelihood Estimators\n",
    "model.fit(data, estimator=MaximumLikelihoodEstimator)\n",
    "for cpd in model.get_cpds():\n",
    "    print(\"CPD of {variable}:\".format(variable=cpd.variable))\n",
    "    print(cpd)"
   ]
  },
  {
   "cell_type": "markdown",
   "metadata": {},
   "source": [
    "As the data was randomly generated with equal probabilities for each state we can see here that all the probability values are close to 0.5 which we expected. Now coming to the Bayesian Estimator:"
   ]
  },
  {
   "cell_type": "markdown",
   "metadata": {},
   "source": [
    "#  Python Collection Counter "
   ]
  },
  {
   "cell_type": "code",
   "execution_count": null,
   "metadata": {
    "collapsed": true
   },
   "outputs": [],
   "source": [
    "# Learning with Bayesian Estimator using dirichlet prior for each variable.\n",
    "\n",
    "pseudo_counts = {'D': [300, 700], 'I': [500, 500], 'G': [800, 200], 'L': [500, 500], 'S': [400, 600]}\n",
    "model.fit(data, estimator=BayesianEstimator, prior_type='dirichlet', pseudo_counts=pseudo_counts)\n",
    "for cpd in model.get_cpds():\n",
    "    print(\"CPD of {variable}:\".format(variable=cpd.variable))\n",
    "    print(cpd)"
   ]
  },
  {
   "cell_type": "markdown",
   "metadata": {},
   "source": [
    "Since the data was randomly generated with equal probabilities for each state, the data tries to bring the posterior probabilities close to 0.5. But because of the prior we will get the values in between the prior and 0.5."
   ]
  },
  {
   "cell_type": "code",
   "execution_count": 1,
   "metadata": {},
   "outputs": [
    {
     "name": "stdout",
     "output_type": "stream",
     "text": [
      "Counter({'blue': 3, 'red': 2, 'green': 1})\n"
     ]
    }
   ],
   "source": [
    "# Tally occurrences of words in a list\n",
    "from collections import Counter\n",
    "cnt = Counter()\n",
    "for word in ['red', 'blue', 'red', 'green', 'blue', 'blue']:\n",
    "        cnt[word] += 1\n",
    " \n",
    "print(cnt)"
   ]
  },
  {
   "cell_type": "markdown",
   "metadata": {},
   "source": [
    "# Python Number random() Method"
   ]
  },
  {
   "cell_type": "code",
   "execution_count": 47,
   "metadata": {},
   "outputs": [
    {
     "name": "stdout",
     "output_type": "stream",
     "text": [
      "random() :  0.9994210479556656\n",
      "random() :  0.6251970261682858\n"
     ]
    }
   ],
   "source": [
    "# Example\n",
    "import random\n",
    "\n",
    "# First random number\n",
    "print(\"random() : \", random.random())\n",
    "\n",
    "# Second random number\n",
    "print(\"random() : \", random.random())"
   ]
  },
  {
   "cell_type": "code",
   "execution_count": 39,
   "metadata": {},
   "outputs": [
    {
     "name": "stdout",
     "output_type": "stream",
     "text": [
      "1\n"
     ]
    }
   ],
   "source": [
    "import random\n",
    "print(random.randint(0, 5))"
   ]
  },
  {
   "cell_type": "code",
   "execution_count": null,
   "metadata": {
    "collapsed": true
   },
   "outputs": [],
   "source": []
  },
  {
   "cell_type": "code",
   "execution_count": 40,
   "metadata": {},
   "outputs": [
    {
     "name": "stdout",
     "output_type": "stream",
     "text": [
      "75.78510407630637\n"
     ]
    }
   ],
   "source": [
    "import random\n",
    "print(random.random() * 100)"
   ]
  },
  {
   "cell_type": "code",
   "execution_count": 41,
   "metadata": {},
   "outputs": [
    {
     "name": "stdout",
     "output_type": "stream",
     "text": [
      "black\n"
     ]
    }
   ],
   "source": [
    "print(random.choice( ['red', 'black', 'green'] ))\n"
   ]
  },
  {
   "cell_type": "code",
   "execution_count": 48,
   "metadata": {},
   "outputs": [
    {
     "name": "stdout",
     "output_type": "stream",
     "text": [
      "4\n",
      "11\n",
      "96\n",
      "44\n",
      "79\n",
      "10\n",
      "92\n",
      "44\n",
      "79\n",
      "93\n"
     ]
    }
   ],
   "source": [
    "import random\n",
    "for x in range(10):\n",
    "      print(random.randint(1,101))"
   ]
  },
  {
   "cell_type": "code",
   "execution_count": 45,
   "metadata": {},
   "outputs": [
    {
     "name": "stdout",
     "output_type": "stream",
     "text": [
      "55\n",
      "35\n",
      "80\n"
     ]
    }
   ],
   "source": [
    "import random\n",
    "for i in range(3):\n",
    "    print (random.randrange(0, 101, 5)) #range(start, stop, step)"
   ]
  },
  {
   "cell_type": "code",
   "execution_count": null,
   "metadata": {
    "collapsed": true
   },
   "outputs": [],
   "source": []
  },
  {
   "cell_type": "markdown",
   "metadata": {},
   "source": [
    "# Python Agg Function "
   ]
  },
  {
   "cell_type": "code",
   "execution_count": 2,
   "metadata": {
    "collapsed": true
   },
   "outputs": [],
   "source": [
    "import pandas as pd\n",
    "import numpy as np\n",
    "df = pd.DataFrame([[1, 2, 3],\n",
    "                    [4, 5, 6],\n",
    "                    [7, 8, 9],\n",
    "                    [np.nan, np.nan, np.nan]],\n",
    "                   columns=['A', 'B', 'C'])"
   ]
  },
  {
   "cell_type": "code",
   "execution_count": 3,
   "metadata": {},
   "outputs": [
    {
     "data": {
      "text/html": [
       "<div>\n",
       "<style>\n",
       "    .dataframe thead tr:only-child th {\n",
       "        text-align: right;\n",
       "    }\n",
       "\n",
       "    .dataframe thead th {\n",
       "        text-align: left;\n",
       "    }\n",
       "\n",
       "    .dataframe tbody tr th {\n",
       "        vertical-align: top;\n",
       "    }\n",
       "</style>\n",
       "<table border=\"1\" class=\"dataframe\">\n",
       "  <thead>\n",
       "    <tr style=\"text-align: right;\">\n",
       "      <th></th>\n",
       "      <th>A</th>\n",
       "      <th>B</th>\n",
       "      <th>C</th>\n",
       "    </tr>\n",
       "  </thead>\n",
       "  <tbody>\n",
       "    <tr>\n",
       "      <th>sum</th>\n",
       "      <td>12.0</td>\n",
       "      <td>15.0</td>\n",
       "      <td>18.0</td>\n",
       "    </tr>\n",
       "    <tr>\n",
       "      <th>min</th>\n",
       "      <td>1.0</td>\n",
       "      <td>2.0</td>\n",
       "      <td>3.0</td>\n",
       "    </tr>\n",
       "  </tbody>\n",
       "</table>\n",
       "</div>"
      ],
      "text/plain": [
       "        A     B     C\n",
       "sum  12.0  15.0  18.0\n",
       "min   1.0   2.0   3.0"
      ]
     },
     "execution_count": 3,
     "metadata": {},
     "output_type": "execute_result"
    }
   ],
   "source": [
    "df.agg(['sum', 'min'])"
   ]
  },
  {
   "cell_type": "code",
   "execution_count": 11,
   "metadata": {},
   "outputs": [
    {
     "data": {
      "text/html": [
       "<div>\n",
       "<style>\n",
       "    .dataframe thead tr:only-child th {\n",
       "        text-align: right;\n",
       "    }\n",
       "\n",
       "    .dataframe thead th {\n",
       "        text-align: left;\n",
       "    }\n",
       "\n",
       "    .dataframe tbody tr th {\n",
       "        vertical-align: top;\n",
       "    }\n",
       "</style>\n",
       "<table border=\"1\" class=\"dataframe\">\n",
       "  <thead>\n",
       "    <tr style=\"text-align: right;\">\n",
       "      <th></th>\n",
       "      <th>A</th>\n",
       "      <th>B</th>\n",
       "    </tr>\n",
       "  </thead>\n",
       "  <tbody>\n",
       "    <tr>\n",
       "      <th>max</th>\n",
       "      <td>NaN</td>\n",
       "      <td>8.0</td>\n",
       "    </tr>\n",
       "    <tr>\n",
       "      <th>min</th>\n",
       "      <td>1.0</td>\n",
       "      <td>2.0</td>\n",
       "    </tr>\n",
       "    <tr>\n",
       "      <th>sum</th>\n",
       "      <td>12.0</td>\n",
       "      <td>NaN</td>\n",
       "    </tr>\n",
       "  </tbody>\n",
       "</table>\n",
       "</div>"
      ],
      "text/plain": [
       "        A    B\n",
       "max   NaN  8.0\n",
       "min   1.0  2.0\n",
       "sum  12.0  NaN"
      ]
     },
     "execution_count": 11,
     "metadata": {},
     "output_type": "execute_result"
    }
   ],
   "source": [
    "df.agg({'A' : ['sum', 'min'], 'B' : ['min', 'max']})"
   ]
  },
  {
   "cell_type": "code",
   "execution_count": 6,
   "metadata": {
    "collapsed": true
   },
   "outputs": [],
   "source": [
    "def add(x):\n",
    "    return x"
   ]
  },
  {
   "cell_type": "code",
   "execution_count": 12,
   "metadata": {
    "collapsed": true
   },
   "outputs": [],
   "source": [
    "df2 = df.agg({'A':[add,lambda x: x/2]})['A']"
   ]
  },
  {
   "cell_type": "code",
   "execution_count": 13,
   "metadata": {},
   "outputs": [
    {
     "name": "stdout",
     "output_type": "stream",
     "text": [
      "   add  <lambda>\n",
      "0  1.0       0.5\n",
      "1  4.0       2.0\n",
      "2  7.0       3.5\n",
      "3  NaN       NaN\n"
     ]
    }
   ],
   "source": [
    "print(df2)"
   ]
  },
  {
   "cell_type": "markdown",
   "metadata": {
    "collapsed": true
   },
   "source": [
    "#  Python Pandas - GroupBy"
   ]
  },
  {
   "cell_type": "markdown",
   "metadata": {},
   "source": [
    "Any groupby operation involves one of the following operations on the original object. They are −\n",
    "\n",
    "# Splitting the Object\n",
    "\n",
    "# Applying a function\n",
    "\n",
    "# Combining the results\n",
    "\n",
    "In many situations, we split the data into sets and we apply some functionality on each subset. In the apply functionality, we can perform the following operations −\n",
    "\n",
    "# Aggregation − computing a summary statistic\n",
    "\n",
    "# Transformation − perform some group-specific operation\n",
    "\n",
    "# Filtration − discarding the data with some condition"
   ]
  },
  {
   "cell_type": "code",
   "execution_count": 1,
   "metadata": {},
   "outputs": [
    {
     "name": "stdout",
     "output_type": "stream",
     "text": [
      "    Points  Rank    Team  Year\n",
      "0      876     1  Riders  2014\n",
      "1      789     2  Riders  2015\n",
      "2      863     2  Devils  2014\n",
      "3      673     3  Devils  2015\n",
      "4      741     3   Kings  2014\n",
      "5      812     4   kings  2015\n",
      "6      756     1   Kings  2016\n",
      "7      788     1   Kings  2017\n",
      "8      694     2  Riders  2016\n",
      "9      701     4  Royals  2014\n",
      "10     804     1  Royals  2015\n",
      "11     690     2  Riders  2017\n"
     ]
    }
   ],
   "source": [
    "#import the pandas library\n",
    "import pandas as pd\n",
    "\n",
    "ipl_data = {'Team': ['Riders', 'Riders', 'Devils', 'Devils', 'Kings',\n",
    "         'kings', 'Kings', 'Kings', 'Riders', 'Royals', 'Royals', 'Riders'],\n",
    "         'Rank': [1, 2, 2, 3, 3,4 ,1 ,1,2 , 4,1,2],\n",
    "         'Year': [2014,2015,2014,2015,2014,2015,2016,2017,2016,2014,2015,2017],\n",
    "         'Points':[876,789,863,673,741,812,756,788,694,701,804,690]}\n",
    "df = pd.DataFrame(ipl_data)\n",
    "\n",
    "print (df)"
   ]
  },
  {
   "cell_type": "markdown",
   "metadata": {},
   "source": [
    "# Split Data into Groups"
   ]
  },
  {
   "cell_type": "markdown",
   "metadata": {},
   "source": [
    "Pandas object can be split into any of their objects. There are multiple ways to split an object like −\n",
    "## 1. obj.groupby('key')\n",
    "## 2. obj.groupby(['key1','key2'])\n",
    "## 3. obj.groupby(key,axis=1)\n",
    "Let us now see how the grouping objects can be applied to the DataFrame object"
   ]
  },
  {
   "cell_type": "markdown",
   "metadata": {},
   "source": [
    "# Example"
   ]
  },
  {
   "cell_type": "code",
   "execution_count": 3,
   "metadata": {},
   "outputs": [
    {
     "name": "stdout",
     "output_type": "stream",
     "text": [
      "<pandas.core.groupby.DataFrameGroupBy object at 0x06ABA270>\n"
     ]
    }
   ],
   "source": [
    "# import the pandas library\n",
    "import pandas as pd\n",
    "\n",
    "ipl_data = {'Team': ['Riders', 'Riders', 'Devils', 'Devils', 'Kings',\n",
    "         'kings', 'Kings', 'Kings', 'Riders', 'Royals', 'Royals', 'Riders'],\n",
    "         'Rank': [1, 2, 2, 3, 3,4 ,1 ,1,2 , 4,1,2],\n",
    "         'Year': [2014,2015,2014,2015,2014,2015,2016,2017,2016,2014,2015,2017],\n",
    "         'Points':[876,789,863,673,741,812,756,788,694,701,804,690]}\n",
    "df = pd.DataFrame(ipl_data)\n",
    "\n",
    "print(df.groupby('Team'))"
   ]
  },
  {
   "cell_type": "markdown",
   "metadata": {},
   "source": [
    "# View Groups"
   ]
  },
  {
   "cell_type": "code",
   "execution_count": 4,
   "metadata": {},
   "outputs": [
    {
     "name": "stdout",
     "output_type": "stream",
     "text": [
      "{'Devils': Int64Index([2, 3], dtype='int64'), 'Kings': Int64Index([4, 6, 7], dtype='int64'), 'Riders': Int64Index([0, 1, 8, 11], dtype='int64'), 'Royals': Int64Index([9, 10], dtype='int64'), 'kings': Int64Index([5], dtype='int64')}\n"
     ]
    }
   ],
   "source": [
    "print(df.groupby('Team').groups)"
   ]
  },
  {
   "cell_type": "markdown",
   "metadata": {},
   "source": [
    "# Example\n",
    "Group by with multiple columns −"
   ]
  },
  {
   "cell_type": "code",
   "execution_count": 8,
   "metadata": {},
   "outputs": [
    {
     "name": "stdout",
     "output_type": "stream",
     "text": [
      "{('Devils', 2014): Int64Index([2], dtype='int64'), ('Devils', 2015): Int64Index([3], dtype='int64'), ('Kings', 2014): Int64Index([4], dtype='int64'), ('Kings', 2016): Int64Index([6], dtype='int64'), ('Kings', 2017): Int64Index([7], dtype='int64'), ('Riders', 2014): Int64Index([0], dtype='int64'), ('Riders', 2015): Int64Index([1], dtype='int64'), ('Riders', 2016): Int64Index([8], dtype='int64'), ('Riders', 2017): Int64Index([11], dtype='int64'), ('Royals', 2014): Int64Index([9], dtype='int64'), ('Royals', 2015): Int64Index([10], dtype='int64'), ('kings', 2015): Int64Index([5], dtype='int64')}\n"
     ]
    }
   ],
   "source": [
    "print(df.groupby(['Team','Year']).groups)"
   ]
  },
  {
   "cell_type": "markdown",
   "metadata": {},
   "source": [
    "# Iterating through Groups\n",
    "With the groupby object in hand, we can iterate through the object similar to itertools.obj."
   ]
  },
  {
   "cell_type": "code",
   "execution_count": 9,
   "metadata": {},
   "outputs": [
    {
     "name": "stdout",
     "output_type": "stream",
     "text": [
      "2014\n",
      "   Points  Rank    Team  Year\n",
      "0     876     1  Riders  2014\n",
      "2     863     2  Devils  2014\n",
      "4     741     3   Kings  2014\n",
      "9     701     4  Royals  2014\n",
      "2015\n",
      "    Points  Rank    Team  Year\n",
      "1      789     2  Riders  2015\n",
      "3      673     3  Devils  2015\n",
      "5      812     4   kings  2015\n",
      "10     804     1  Royals  2015\n",
      "2016\n",
      "   Points  Rank    Team  Year\n",
      "6     756     1   Kings  2016\n",
      "8     694     2  Riders  2016\n",
      "2017\n",
      "    Points  Rank    Team  Year\n",
      "7      788     1   Kings  2017\n",
      "11     690     2  Riders  2017\n"
     ]
    }
   ],
   "source": [
    "grouped = df.groupby('Year')\n",
    "\n",
    "for name,group in grouped:\n",
    "    print (name)\n",
    "    print (group)"
   ]
  },
  {
   "cell_type": "markdown",
   "metadata": {},
   "source": [
    "# Select a Group\n",
    "Using the get_group() method, we can select a single group."
   ]
  },
  {
   "cell_type": "code",
   "execution_count": 10,
   "metadata": {},
   "outputs": [
    {
     "name": "stdout",
     "output_type": "stream",
     "text": [
      "   Points  Rank    Team  Year\n",
      "0     876     1  Riders  2014\n",
      "2     863     2  Devils  2014\n",
      "4     741     3   Kings  2014\n",
      "9     701     4  Royals  2014\n"
     ]
    }
   ],
   "source": [
    "grouped = df.groupby('Year')\n",
    "print(grouped.get_group(2014))"
   ]
  },
  {
   "cell_type": "markdown",
   "metadata": {},
   "source": [
    "# Aggregations\n",
    "An aggregated function returns a single aggregated value for each group. Once the group by object is created, several aggregation operations can be performed on the grouped data.\n",
    "An obvious one is aggregation via the aggregate or equivalent ## agg method −"
   ]
  },
  {
   "cell_type": "code",
   "execution_count": 16,
   "metadata": {},
   "outputs": [
    {
     "name": "stdout",
     "output_type": "stream",
     "text": [
      "Year\n",
      "2014    795.25\n",
      "2015    769.50\n",
      "2016    725.00\n",
      "2017    739.00\n",
      "Name: Points, dtype: float64\n"
     ]
    }
   ],
   "source": [
    "import numpy as np\n",
    "grouped = df.groupby('Year')\n",
    "print(grouped['Points'].agg(np.mean))"
   ]
  },
  {
   "cell_type": "code",
   "execution_count": 17,
   "metadata": {},
   "outputs": [
    {
     "name": "stdout",
     "output_type": "stream",
     "text": [
      "        Points  Rank  Year\n",
      "Team                      \n",
      "Devils       2     2     2\n",
      "Kings        3     3     3\n",
      "Riders       4     4     4\n",
      "Royals       2     2     2\n",
      "kings        1     1     1\n"
     ]
    }
   ],
   "source": [
    "# Another way to see the size of each group is by applying the size() function −\n",
    "grouped = df.groupby('Team')\n",
    "print(grouped.agg(np.size))"
   ]
  },
  {
   "cell_type": "markdown",
   "metadata": {},
   "source": [
    "# Applying Multiple Aggregation Functions at Once\n",
    "With grouped Series, you can also pass a list or dict of \n",
    "functions to do aggregation with, and generate DataFrame as output −"
   ]
  },
  {
   "cell_type": "code",
   "execution_count": 18,
   "metadata": {},
   "outputs": [
    {
     "name": "stdout",
     "output_type": "stream",
     "text": [
      "         sum        mean         std\n",
      "Team                                \n",
      "Devils  1536  768.000000  134.350288\n",
      "Kings   2285  761.666667   24.006943\n",
      "Riders  3049  762.250000   88.567771\n",
      "Royals  1505  752.500000   72.831998\n",
      "kings    812  812.000000         NaN\n"
     ]
    }
   ],
   "source": [
    "grouped = df.groupby('Team')\n",
    "print(grouped['Points'].agg([np.sum, np.mean, np.std]))"
   ]
  },
  {
   "cell_type": "markdown",
   "metadata": {},
   "source": [
    "# Transformations\n",
    "Transformation on a group or a column returns an object that is indexed the \n",
    "same size of that is being grouped. Thus, the transform should return a result \n",
    "that is the same size as that of a group chunk."
   ]
  },
  {
   "cell_type": "code",
   "execution_count": 20,
   "metadata": {},
   "outputs": [
    {
     "name": "stdout",
     "output_type": "stream",
     "text": [
      "       Points       Rank       Year\n",
      "0   12.843272 -15.000000 -11.618950\n",
      "1    3.020286   5.000000  -3.872983\n",
      "2    7.071068  -7.071068  -7.071068\n",
      "3   -7.071068   7.071068   7.071068\n",
      "4   -8.608621  11.547005 -10.910895\n",
      "5         NaN        NaN        NaN\n",
      "6   -2.360428  -5.773503   2.182179\n",
      "7   10.969049  -5.773503   8.728716\n",
      "8   -7.705963   5.000000   3.872983\n",
      "9   -7.071068   7.071068  -7.071068\n",
      "10   7.071068  -7.071068   7.071068\n",
      "11  -8.157595   5.000000  11.618950\n"
     ]
    }
   ],
   "source": [
    "grouped = df.groupby('Team')\n",
    "score = lambda x: (x - x.mean()) / x.std()*10\n",
    "print(grouped.transform(score))"
   ]
  },
  {
   "cell_type": "markdown",
   "metadata": {},
   "source": [
    "# Filtration\n",
    "Filtration filters the data on a defined criteria and returns the subset of data. The filter() function is used to filter the data."
   ]
  },
  {
   "cell_type": "code",
   "execution_count": 21,
   "metadata": {},
   "outputs": [
    {
     "name": "stdout",
     "output_type": "stream",
     "text": [
      "    Points  Rank    Team  Year\n",
      "0      876     1  Riders  2014\n",
      "1      789     2  Riders  2015\n",
      "4      741     3   Kings  2014\n",
      "6      756     1   Kings  2016\n",
      "7      788     1   Kings  2017\n",
      "8      694     2  Riders  2016\n",
      "11     690     2  Riders  2017\n"
     ]
    }
   ],
   "source": [
    "print(df.groupby('Team').filter(lambda x: len(x) >= 3))"
   ]
  },
  {
   "cell_type": "markdown",
   "metadata": {},
   "source": [
    "# numpy.random.rand() :"
   ]
  },
  {
   "cell_type": "code",
   "execution_count": 49,
   "metadata": {},
   "outputs": [
    {
     "data": {
      "text/plain": [
       "array([[ 0.71070532,  0.50297688],\n",
       "       [ 0.03314543,  0.92863235],\n",
       "       [ 0.48879743,  0.03026067]])"
      ]
     },
     "execution_count": 49,
     "metadata": {},
     "output_type": "execute_result"
    }
   ],
   "source": [
    "import numpy as np\n",
    "np.random.rand(3,2)"
   ]
  },
  {
   "cell_type": "code",
   "execution_count": 52,
   "metadata": {},
   "outputs": [
    {
     "data": {
      "text/plain": [
       "array([ 0.83073736,  0.64062029,  0.40264345,  0.93153742,  0.12258156,\n",
       "        0.69133444,  0.74910187,  0.55130588,  0.44917516,  0.93903438])"
      ]
     },
     "execution_count": 52,
     "metadata": {},
     "output_type": "execute_result"
    }
   ],
   "source": [
    "np.random.rand(10)"
   ]
  },
  {
   "cell_type": "code",
   "execution_count": 53,
   "metadata": {},
   "outputs": [
    {
     "name": "stdout",
     "output_type": "stream",
     "text": [
      "7\n"
     ]
    }
   ],
   "source": [
    "import random\n",
    "print(random.randint(0,9))"
   ]
  },
  {
   "cell_type": "markdown",
   "metadata": {},
   "source": [
    "# Row or Column Wise Function Application: apply()"
   ]
  },
  {
   "cell_type": "markdown",
   "metadata": {},
   "source": [
    "### Arbitrary functions can be applied along the axes of a DataFrame or Panel using the apply() method, which, like the descriptive statistics methods, takes an optional axis argument. By default, the operation performs column wise, taking each column as an array-like."
   ]
  },
  {
   "cell_type": "markdown",
   "metadata": {},
   "source": [
    "## Example 1"
   ]
  },
  {
   "cell_type": "code",
   "execution_count": 37,
   "metadata": {},
   "outputs": [
    {
     "name": "stdout",
     "output_type": "stream",
     "text": [
      "       col1      col2      col3\n",
      "0 -0.364455 -1.082244  0.502910\n",
      "1 -0.738603  1.259886  0.159887\n",
      "2 -0.521312 -1.026318 -0.274471\n",
      "3 -1.014640 -0.739245  0.116257\n",
      "4 -0.209844 -2.009985  0.950417\n",
      "col1   -0.569771\n",
      "col2   -0.719581\n",
      "col3    0.291000\n",
      "dtype: float64\n"
     ]
    }
   ],
   "source": [
    "import pandas as pd\n",
    "import numpy as np\n",
    "\n",
    "df = pd.DataFrame(np.random.randn(5,3),columns=['col1','col2','col3'])\n",
    "print(df)\n",
    "df.apply(np.mean)\n",
    "print (df.apply(np.mean))"
   ]
  },
  {
   "cell_type": "markdown",
   "metadata": {},
   "source": [
    "## Example 2: \n",
    "By passing axis parameter, operations can be performed row wise"
   ]
  },
  {
   "cell_type": "code",
   "execution_count": 24,
   "metadata": {},
   "outputs": [
    {
     "name": "stdout",
     "output_type": "stream",
     "text": [
      "col1   -1.023141\n",
      "col2   -0.016045\n",
      "col3   -0.519357\n",
      "dtype: float64\n"
     ]
    }
   ],
   "source": [
    "import pandas as pd\n",
    "import numpy as np\n",
    "\n",
    "df = pd.DataFrame(np.random.randn(5,3),columns=['col1','col2','col3'])\n",
    "df.apply(np.mean,axis=1)\n",
    "print(df.apply(np.mean))"
   ]
  },
  {
   "cell_type": "markdown",
   "metadata": {},
   "source": [
    "## Example 3:"
   ]
  },
  {
   "cell_type": "code",
   "execution_count": 25,
   "metadata": {},
   "outputs": [
    {
     "name": "stdout",
     "output_type": "stream",
     "text": [
      "col1   -0.091577\n",
      "col2    0.014258\n",
      "col3   -0.030618\n",
      "dtype: float64\n"
     ]
    }
   ],
   "source": [
    "import pandas as pd\n",
    "import numpy as np\n",
    "\n",
    "df = pd.DataFrame(np.random.randn(5,3),columns=['col1','col2','col3'])\n",
    "df.apply(lambda x: x.max() - x.min())\n",
    "print (df.apply(np.mean))"
   ]
  },
  {
   "cell_type": "code",
   "execution_count": 63,
   "metadata": {},
   "outputs": [
    {
     "data": {
      "text/html": [
       "<div>\n",
       "<style>\n",
       "    .dataframe thead tr:only-child th {\n",
       "        text-align: right;\n",
       "    }\n",
       "\n",
       "    .dataframe thead th {\n",
       "        text-align: left;\n",
       "    }\n",
       "\n",
       "    .dataframe tbody tr th {\n",
       "        vertical-align: top;\n",
       "    }\n",
       "</style>\n",
       "<table border=\"1\" class=\"dataframe\">\n",
       "  <thead>\n",
       "    <tr style=\"text-align: right;\">\n",
       "      <th></th>\n",
       "      <th>A</th>\n",
       "      <th>B</th>\n",
       "    </tr>\n",
       "  </thead>\n",
       "  <tbody>\n",
       "    <tr>\n",
       "      <th>0</th>\n",
       "      <td>4</td>\n",
       "      <td>9</td>\n",
       "    </tr>\n",
       "    <tr>\n",
       "      <th>1</th>\n",
       "      <td>4</td>\n",
       "      <td>9</td>\n",
       "    </tr>\n",
       "    <tr>\n",
       "      <th>2</th>\n",
       "      <td>4</td>\n",
       "      <td>9</td>\n",
       "    </tr>\n",
       "  </tbody>\n",
       "</table>\n",
       "</div>"
      ],
      "text/plain": [
       "   A  B\n",
       "0  4  9\n",
       "1  4  9\n",
       "2  4  9"
      ]
     },
     "execution_count": 63,
     "metadata": {},
     "output_type": "execute_result"
    }
   ],
   "source": [
    "df = pd.DataFrame([[4, 9],] * 3, columns=['A', 'B'])\n",
    "df"
   ]
  },
  {
   "cell_type": "code",
   "execution_count": 64,
   "metadata": {},
   "outputs": [
    {
     "data": {
      "text/html": [
       "<div>\n",
       "<style>\n",
       "    .dataframe thead tr:only-child th {\n",
       "        text-align: right;\n",
       "    }\n",
       "\n",
       "    .dataframe thead th {\n",
       "        text-align: left;\n",
       "    }\n",
       "\n",
       "    .dataframe tbody tr th {\n",
       "        vertical-align: top;\n",
       "    }\n",
       "</style>\n",
       "<table border=\"1\" class=\"dataframe\">\n",
       "  <thead>\n",
       "    <tr style=\"text-align: right;\">\n",
       "      <th></th>\n",
       "      <th>A</th>\n",
       "      <th>B</th>\n",
       "    </tr>\n",
       "  </thead>\n",
       "  <tbody>\n",
       "    <tr>\n",
       "      <th>0</th>\n",
       "      <td>2.0</td>\n",
       "      <td>3.0</td>\n",
       "    </tr>\n",
       "    <tr>\n",
       "      <th>1</th>\n",
       "      <td>2.0</td>\n",
       "      <td>3.0</td>\n",
       "    </tr>\n",
       "    <tr>\n",
       "      <th>2</th>\n",
       "      <td>2.0</td>\n",
       "      <td>3.0</td>\n",
       "    </tr>\n",
       "  </tbody>\n",
       "</table>\n",
       "</div>"
      ],
      "text/plain": [
       "     A    B\n",
       "0  2.0  3.0\n",
       "1  2.0  3.0\n",
       "2  2.0  3.0"
      ]
     },
     "execution_count": 64,
     "metadata": {},
     "output_type": "execute_result"
    }
   ],
   "source": [
    "df.apply(np.sqrt)"
   ]
  },
  {
   "cell_type": "code",
   "execution_count": 65,
   "metadata": {},
   "outputs": [
    {
     "data": {
      "text/plain": [
       "A    12\n",
       "B    27\n",
       "dtype: int64"
      ]
     },
     "execution_count": 65,
     "metadata": {},
     "output_type": "execute_result"
    }
   ],
   "source": [
    "df.apply(np.sum, axis=0)"
   ]
  },
  {
   "cell_type": "code",
   "execution_count": 66,
   "metadata": {},
   "outputs": [
    {
     "data": {
      "text/plain": [
       "0    13\n",
       "1    13\n",
       "2    13\n",
       "dtype: int64"
      ]
     },
     "execution_count": 66,
     "metadata": {},
     "output_type": "execute_result"
    }
   ],
   "source": [
    "df.apply(np.sum, axis=1)"
   ]
  },
  {
   "cell_type": "code",
   "execution_count": 67,
   "metadata": {},
   "outputs": [
    {
     "data": {
      "text/html": [
       "<div>\n",
       "<style>\n",
       "    .dataframe thead tr:only-child th {\n",
       "        text-align: right;\n",
       "    }\n",
       "\n",
       "    .dataframe thead th {\n",
       "        text-align: left;\n",
       "    }\n",
       "\n",
       "    .dataframe tbody tr th {\n",
       "        vertical-align: top;\n",
       "    }\n",
       "</style>\n",
       "<table border=\"1\" class=\"dataframe\">\n",
       "  <thead>\n",
       "    <tr style=\"text-align: right;\">\n",
       "      <th></th>\n",
       "      <th>A</th>\n",
       "      <th>B</th>\n",
       "    </tr>\n",
       "  </thead>\n",
       "  <tbody>\n",
       "    <tr>\n",
       "      <th>0</th>\n",
       "      <td>1</td>\n",
       "      <td>2</td>\n",
       "    </tr>\n",
       "    <tr>\n",
       "      <th>1</th>\n",
       "      <td>1</td>\n",
       "      <td>2</td>\n",
       "    </tr>\n",
       "    <tr>\n",
       "      <th>2</th>\n",
       "      <td>1</td>\n",
       "      <td>2</td>\n",
       "    </tr>\n",
       "  </tbody>\n",
       "</table>\n",
       "</div>"
      ],
      "text/plain": [
       "   A  B\n",
       "0  1  2\n",
       "1  1  2\n",
       "2  1  2"
      ]
     },
     "execution_count": 67,
     "metadata": {},
     "output_type": "execute_result"
    }
   ],
   "source": [
    "df.apply(lambda x: [1, 2], axis=1)"
   ]
  },
  {
   "cell_type": "code",
   "execution_count": 70,
   "metadata": {},
   "outputs": [
    {
     "data": {
      "text/html": [
       "<div>\n",
       "<style>\n",
       "    .dataframe thead tr:only-child th {\n",
       "        text-align: right;\n",
       "    }\n",
       "\n",
       "    .dataframe thead th {\n",
       "        text-align: left;\n",
       "    }\n",
       "\n",
       "    .dataframe tbody tr th {\n",
       "        vertical-align: top;\n",
       "    }\n",
       "</style>\n",
       "<table border=\"1\" class=\"dataframe\">\n",
       "  <thead>\n",
       "    <tr style=\"text-align: right;\">\n",
       "      <th></th>\n",
       "      <th>foo</th>\n",
       "      <th>bar</th>\n",
       "    </tr>\n",
       "  </thead>\n",
       "  <tbody>\n",
       "    <tr>\n",
       "      <th>0</th>\n",
       "      <td>1</td>\n",
       "      <td>2</td>\n",
       "    </tr>\n",
       "    <tr>\n",
       "      <th>1</th>\n",
       "      <td>1</td>\n",
       "      <td>2</td>\n",
       "    </tr>\n",
       "    <tr>\n",
       "      <th>2</th>\n",
       "      <td>1</td>\n",
       "      <td>2</td>\n",
       "    </tr>\n",
       "  </tbody>\n",
       "</table>\n",
       "</div>"
      ],
      "text/plain": [
       "   foo  bar\n",
       "0    1    2\n",
       "1    1    2\n",
       "2    1    2"
      ]
     },
     "execution_count": 70,
     "metadata": {},
     "output_type": "execute_result"
    }
   ],
   "source": [
    "df.apply(lambda x: pd.Series([1, 2], index=['foo', 'bar']), axis=1)"
   ]
  },
  {
   "cell_type": "code",
   "execution_count": 73,
   "metadata": {
    "collapsed": true
   },
   "outputs": [],
   "source": [
    "import pandas as pd"
   ]
  },
  {
   "cell_type": "code",
   "execution_count": 74,
   "metadata": {},
   "outputs": [
    {
     "data": {
      "text/html": [
       "<div>\n",
       "<style>\n",
       "    .dataframe thead tr:only-child th {\n",
       "        text-align: right;\n",
       "    }\n",
       "\n",
       "    .dataframe thead th {\n",
       "        text-align: left;\n",
       "    }\n",
       "\n",
       "    .dataframe tbody tr th {\n",
       "        vertical-align: top;\n",
       "    }\n",
       "</style>\n",
       "<table border=\"1\" class=\"dataframe\">\n",
       "  <thead>\n",
       "    <tr style=\"text-align: right;\">\n",
       "      <th></th>\n",
       "      <th>PassengerId</th>\n",
       "      <th>Survived</th>\n",
       "      <th>Pclass</th>\n",
       "      <th>Name</th>\n",
       "      <th>Sex</th>\n",
       "      <th>Age</th>\n",
       "      <th>SibSp</th>\n",
       "      <th>Parch</th>\n",
       "      <th>Ticket</th>\n",
       "      <th>Fare</th>\n",
       "      <th>Cabin</th>\n",
       "      <th>Embarked</th>\n",
       "    </tr>\n",
       "  </thead>\n",
       "  <tbody>\n",
       "    <tr>\n",
       "      <th>0</th>\n",
       "      <td>1</td>\n",
       "      <td>0</td>\n",
       "      <td>3</td>\n",
       "      <td>Braund, Mr. Owen Harris</td>\n",
       "      <td>male</td>\n",
       "      <td>22.0</td>\n",
       "      <td>1</td>\n",
       "      <td>0</td>\n",
       "      <td>A/5 21171</td>\n",
       "      <td>7.2500</td>\n",
       "      <td>NaN</td>\n",
       "      <td>S</td>\n",
       "    </tr>\n",
       "    <tr>\n",
       "      <th>1</th>\n",
       "      <td>2</td>\n",
       "      <td>1</td>\n",
       "      <td>1</td>\n",
       "      <td>Cumings, Mrs. John Bradley (Florence Briggs Th...</td>\n",
       "      <td>female</td>\n",
       "      <td>38.0</td>\n",
       "      <td>1</td>\n",
       "      <td>0</td>\n",
       "      <td>PC 17599</td>\n",
       "      <td>71.2833</td>\n",
       "      <td>C85</td>\n",
       "      <td>C</td>\n",
       "    </tr>\n",
       "    <tr>\n",
       "      <th>2</th>\n",
       "      <td>3</td>\n",
       "      <td>1</td>\n",
       "      <td>3</td>\n",
       "      <td>Heikkinen, Miss. Laina</td>\n",
       "      <td>female</td>\n",
       "      <td>26.0</td>\n",
       "      <td>0</td>\n",
       "      <td>0</td>\n",
       "      <td>STON/O2. 3101282</td>\n",
       "      <td>7.9250</td>\n",
       "      <td>NaN</td>\n",
       "      <td>S</td>\n",
       "    </tr>\n",
       "  </tbody>\n",
       "</table>\n",
       "</div>"
      ],
      "text/plain": [
       "   PassengerId  Survived  Pclass  \\\n",
       "0            1         0       3   \n",
       "1            2         1       1   \n",
       "2            3         1       3   \n",
       "\n",
       "                                                Name     Sex   Age  SibSp  \\\n",
       "0                            Braund, Mr. Owen Harris    male  22.0      1   \n",
       "1  Cumings, Mrs. John Bradley (Florence Briggs Th...  female  38.0      1   \n",
       "2                             Heikkinen, Miss. Laina  female  26.0      0   \n",
       "\n",
       "   Parch            Ticket     Fare Cabin Embarked  \n",
       "0      0         A/5 21171   7.2500   NaN        S  \n",
       "1      0          PC 17599  71.2833   C85        C  \n",
       "2      0  STON/O2. 3101282   7.9250   NaN        S  "
      ]
     },
     "execution_count": 74,
     "metadata": {},
     "output_type": "execute_result"
    }
   ],
   "source": [
    "url = 'http://bit.ly/kaggletrain'\n",
    "train = pd.read_csv(url)\n",
    "train.head(3)"
   ]
  },
  {
   "cell_type": "markdown",
   "metadata": {},
   "source": [
    "## map() function as a Series method \n",
    "## Mostly used for mapping categorical data to numerical data"
   ]
  },
  {
   "cell_type": "code",
   "execution_count": 75,
   "metadata": {
    "collapsed": true
   },
   "outputs": [],
   "source": [
    "# create new column\n",
    "train['Sex_num'] = train.Sex.map({'female':0, 'male':1})"
   ]
  },
  {
   "cell_type": "code",
   "execution_count": 76,
   "metadata": {},
   "outputs": [
    {
     "data": {
      "text/html": [
       "<div>\n",
       "<style>\n",
       "    .dataframe thead tr:only-child th {\n",
       "        text-align: right;\n",
       "    }\n",
       "\n",
       "    .dataframe thead th {\n",
       "        text-align: left;\n",
       "    }\n",
       "\n",
       "    .dataframe tbody tr th {\n",
       "        vertical-align: top;\n",
       "    }\n",
       "</style>\n",
       "<table border=\"1\" class=\"dataframe\">\n",
       "  <thead>\n",
       "    <tr style=\"text-align: right;\">\n",
       "      <th></th>\n",
       "      <th>Sex</th>\n",
       "      <th>Sex_num</th>\n",
       "    </tr>\n",
       "  </thead>\n",
       "  <tbody>\n",
       "    <tr>\n",
       "      <th>0</th>\n",
       "      <td>male</td>\n",
       "      <td>1</td>\n",
       "    </tr>\n",
       "    <tr>\n",
       "      <th>1</th>\n",
       "      <td>female</td>\n",
       "      <td>0</td>\n",
       "    </tr>\n",
       "    <tr>\n",
       "      <th>2</th>\n",
       "      <td>female</td>\n",
       "      <td>0</td>\n",
       "    </tr>\n",
       "    <tr>\n",
       "      <th>3</th>\n",
       "      <td>female</td>\n",
       "      <td>0</td>\n",
       "    </tr>\n",
       "    <tr>\n",
       "      <th>4</th>\n",
       "      <td>male</td>\n",
       "      <td>1</td>\n",
       "    </tr>\n",
       "  </tbody>\n",
       "</table>\n",
       "</div>"
      ],
      "text/plain": [
       "      Sex  Sex_num\n",
       "0    male        1\n",
       "1  female        0\n",
       "2  female        0\n",
       "3  female        0\n",
       "4    male        1"
      ]
     },
     "execution_count": 76,
     "metadata": {},
     "output_type": "execute_result"
    }
   ],
   "source": [
    "# let's compared Sex and Sex_num columns\n",
    "# here we can see we map male to 1 and female to 0\n",
    "train.loc[0:4, ['Sex', 'Sex_num']]"
   ]
  },
  {
   "cell_type": "markdown",
   "metadata": {},
   "source": [
    "# apply() function as a Series method \n",
    "## Applies a function to each element in the Series"
   ]
  },
  {
   "cell_type": "code",
   "execution_count": 77,
   "metadata": {
    "collapsed": true
   },
   "outputs": [],
   "source": [
    "# say we want to calculate length of string in each string in \"Name\" column\n",
    "\n",
    "# create new column\n",
    "# we are applying Python's len function\n",
    "train['Name_length'] = train.Name.apply(len)"
   ]
  },
  {
   "cell_type": "code",
   "execution_count": 78,
   "metadata": {},
   "outputs": [
    {
     "data": {
      "text/html": [
       "<div>\n",
       "<style>\n",
       "    .dataframe thead tr:only-child th {\n",
       "        text-align: right;\n",
       "    }\n",
       "\n",
       "    .dataframe thead th {\n",
       "        text-align: left;\n",
       "    }\n",
       "\n",
       "    .dataframe tbody tr th {\n",
       "        vertical-align: top;\n",
       "    }\n",
       "</style>\n",
       "<table border=\"1\" class=\"dataframe\">\n",
       "  <thead>\n",
       "    <tr style=\"text-align: right;\">\n",
       "      <th></th>\n",
       "      <th>Name</th>\n",
       "      <th>Name_length</th>\n",
       "    </tr>\n",
       "  </thead>\n",
       "  <tbody>\n",
       "    <tr>\n",
       "      <th>0</th>\n",
       "      <td>Braund, Mr. Owen Harris</td>\n",
       "      <td>23</td>\n",
       "    </tr>\n",
       "    <tr>\n",
       "      <th>1</th>\n",
       "      <td>Cumings, Mrs. John Bradley (Florence Briggs Th...</td>\n",
       "      <td>51</td>\n",
       "    </tr>\n",
       "    <tr>\n",
       "      <th>2</th>\n",
       "      <td>Heikkinen, Miss. Laina</td>\n",
       "      <td>22</td>\n",
       "    </tr>\n",
       "    <tr>\n",
       "      <th>3</th>\n",
       "      <td>Futrelle, Mrs. Jacques Heath (Lily May Peel)</td>\n",
       "      <td>44</td>\n",
       "    </tr>\n",
       "    <tr>\n",
       "      <th>4</th>\n",
       "      <td>Allen, Mr. William Henry</td>\n",
       "      <td>24</td>\n",
       "    </tr>\n",
       "  </tbody>\n",
       "</table>\n",
       "</div>"
      ],
      "text/plain": [
       "                                                Name  Name_length\n",
       "0                            Braund, Mr. Owen Harris           23\n",
       "1  Cumings, Mrs. John Bradley (Florence Briggs Th...           51\n",
       "2                             Heikkinen, Miss. Laina           22\n",
       "3       Futrelle, Mrs. Jacques Heath (Lily May Peel)           44\n",
       "4                           Allen, Mr. William Henry           24"
      ]
     },
     "execution_count": 78,
     "metadata": {},
     "output_type": "execute_result"
    }
   ],
   "source": [
    "# the apply() method applies the function to each element\n",
    "train.loc[0:4, ['Name', 'Name_length']]"
   ]
  },
  {
   "cell_type": "code",
   "execution_count": 79,
   "metadata": {
    "collapsed": true
   },
   "outputs": [],
   "source": [
    "import numpy as np\n",
    "\n",
    "# say we look at the \"Fare\" column and we want to round it up\n",
    "# we will use numpy's ceil function to round up the numbers\n",
    "train['Fare_ceil'] = train.Fare.apply(np.ceil)"
   ]
  },
  {
   "cell_type": "code",
   "execution_count": 80,
   "metadata": {},
   "outputs": [
    {
     "data": {
      "text/html": [
       "<div>\n",
       "<style>\n",
       "    .dataframe thead tr:only-child th {\n",
       "        text-align: right;\n",
       "    }\n",
       "\n",
       "    .dataframe thead th {\n",
       "        text-align: left;\n",
       "    }\n",
       "\n",
       "    .dataframe tbody tr th {\n",
       "        vertical-align: top;\n",
       "    }\n",
       "</style>\n",
       "<table border=\"1\" class=\"dataframe\">\n",
       "  <thead>\n",
       "    <tr style=\"text-align: right;\">\n",
       "      <th></th>\n",
       "      <th>Fare</th>\n",
       "      <th>Fare_ceil</th>\n",
       "    </tr>\n",
       "  </thead>\n",
       "  <tbody>\n",
       "    <tr>\n",
       "      <th>0</th>\n",
       "      <td>7.2500</td>\n",
       "      <td>8.0</td>\n",
       "    </tr>\n",
       "    <tr>\n",
       "      <th>1</th>\n",
       "      <td>71.2833</td>\n",
       "      <td>72.0</td>\n",
       "    </tr>\n",
       "    <tr>\n",
       "      <th>2</th>\n",
       "      <td>7.9250</td>\n",
       "      <td>8.0</td>\n",
       "    </tr>\n",
       "    <tr>\n",
       "      <th>3</th>\n",
       "      <td>53.1000</td>\n",
       "      <td>54.0</td>\n",
       "    </tr>\n",
       "    <tr>\n",
       "      <th>4</th>\n",
       "      <td>8.0500</td>\n",
       "      <td>9.0</td>\n",
       "    </tr>\n",
       "  </tbody>\n",
       "</table>\n",
       "</div>"
      ],
      "text/plain": [
       "      Fare  Fare_ceil\n",
       "0   7.2500        8.0\n",
       "1  71.2833       72.0\n",
       "2   7.9250        8.0\n",
       "3  53.1000       54.0\n",
       "4   8.0500        9.0"
      ]
     },
     "execution_count": 80,
     "metadata": {},
     "output_type": "execute_result"
    }
   ],
   "source": [
    "train.loc[0:4, ['Fare', 'Fare_ceil']]"
   ]
  },
  {
   "cell_type": "code",
   "execution_count": 81,
   "metadata": {},
   "outputs": [
    {
     "data": {
      "text/plain": [
       "0                           [Braund,  Mr. Owen Harris]\n",
       "1    [Cumings,  Mrs. John Bradley (Florence Briggs ...\n",
       "2                            [Heikkinen,  Miss. Laina]\n",
       "3      [Futrelle,  Mrs. Jacques Heath (Lily May Peel)]\n",
       "4                          [Allen,  Mr. William Henry]\n",
       "Name: Name, dtype: object"
      ]
     },
     "execution_count": 81,
     "metadata": {},
     "output_type": "execute_result"
    }
   ],
   "source": [
    "# let's extract last name of each person\n",
    "\n",
    "# we will use a str method\n",
    "# now the series is a list of strings\n",
    "# each cell has 2 strings in a list as you can see below\n",
    "train.Name.str.split(',').head()"
   ]
  },
  {
   "cell_type": "code",
   "execution_count": 82,
   "metadata": {
    "collapsed": true
   },
   "outputs": [],
   "source": [
    "# we just want the first string from the list\n",
    "# we create a function to retrieve\n",
    "def get_element(my_list, position):\n",
    "    return my_list[position]"
   ]
  },
  {
   "cell_type": "code",
   "execution_count": 83,
   "metadata": {},
   "outputs": [
    {
     "data": {
      "text/plain": [
       "0       Braund\n",
       "1      Cumings\n",
       "2    Heikkinen\n",
       "3     Futrelle\n",
       "4        Allen\n",
       "Name: Name, dtype: object"
      ]
     },
     "execution_count": 83,
     "metadata": {},
     "output_type": "execute_result"
    }
   ],
   "source": [
    "# use our created get_element function\n",
    "# we pass position=0\n",
    "train.Name.str.split(',').apply(get_element, position=0).head()"
   ]
  },
  {
   "cell_type": "markdown",
   "metadata": {},
   "source": [
    "## apply() function as a DataFrame method \n",
    "## Applies a function on either axis of the DataFrame"
   ]
  },
  {
   "cell_type": "code",
   "execution_count": 85,
   "metadata": {},
   "outputs": [
    {
     "data": {
      "text/html": [
       "<div>\n",
       "<style>\n",
       "    .dataframe thead tr:only-child th {\n",
       "        text-align: right;\n",
       "    }\n",
       "\n",
       "    .dataframe thead th {\n",
       "        text-align: left;\n",
       "    }\n",
       "\n",
       "    .dataframe tbody tr th {\n",
       "        vertical-align: top;\n",
       "    }\n",
       "</style>\n",
       "<table border=\"1\" class=\"dataframe\">\n",
       "  <thead>\n",
       "    <tr style=\"text-align: right;\">\n",
       "      <th></th>\n",
       "      <th>country</th>\n",
       "      <th>beer_servings</th>\n",
       "      <th>spirit_servings</th>\n",
       "      <th>wine_servings</th>\n",
       "      <th>total_litres_of_pure_alcohol</th>\n",
       "      <th>continent</th>\n",
       "    </tr>\n",
       "  </thead>\n",
       "  <tbody>\n",
       "    <tr>\n",
       "      <th>0</th>\n",
       "      <td>Afghanistan</td>\n",
       "      <td>0</td>\n",
       "      <td>0</td>\n",
       "      <td>0</td>\n",
       "      <td>0.0</td>\n",
       "      <td>Asia</td>\n",
       "    </tr>\n",
       "    <tr>\n",
       "      <th>1</th>\n",
       "      <td>Albania</td>\n",
       "      <td>89</td>\n",
       "      <td>132</td>\n",
       "      <td>54</td>\n",
       "      <td>4.9</td>\n",
       "      <td>Europe</td>\n",
       "    </tr>\n",
       "    <tr>\n",
       "      <th>2</th>\n",
       "      <td>Algeria</td>\n",
       "      <td>25</td>\n",
       "      <td>0</td>\n",
       "      <td>14</td>\n",
       "      <td>0.7</td>\n",
       "      <td>Africa</td>\n",
       "    </tr>\n",
       "    <tr>\n",
       "      <th>3</th>\n",
       "      <td>Andorra</td>\n",
       "      <td>245</td>\n",
       "      <td>138</td>\n",
       "      <td>312</td>\n",
       "      <td>12.4</td>\n",
       "      <td>Europe</td>\n",
       "    </tr>\n",
       "    <tr>\n",
       "      <th>4</th>\n",
       "      <td>Angola</td>\n",
       "      <td>217</td>\n",
       "      <td>57</td>\n",
       "      <td>45</td>\n",
       "      <td>5.9</td>\n",
       "      <td>Africa</td>\n",
       "    </tr>\n",
       "  </tbody>\n",
       "</table>\n",
       "</div>"
      ],
      "text/plain": [
       "       country  beer_servings  spirit_servings  wine_servings  \\\n",
       "0  Afghanistan              0                0              0   \n",
       "1      Albania             89              132             54   \n",
       "2      Algeria             25                0             14   \n",
       "3      Andorra            245              138            312   \n",
       "4       Angola            217               57             45   \n",
       "\n",
       "   total_litres_of_pure_alcohol continent  \n",
       "0                           0.0      Asia  \n",
       "1                           4.9    Europe  \n",
       "2                           0.7    Africa  \n",
       "3                          12.4    Europe  \n",
       "4                           5.9    Africa  "
      ]
     },
     "execution_count": 85,
     "metadata": {},
     "output_type": "execute_result"
    }
   ],
   "source": [
    "url = 'http://bit.ly/drinksbycountry'\n",
    "drinks = pd.read_csv(url)\n",
    "drinks.head()"
   ]
  },
  {
   "cell_type": "code",
   "execution_count": 86,
   "metadata": {},
   "outputs": [
    {
     "data": {
      "text/html": [
       "<div>\n",
       "<style>\n",
       "    .dataframe thead tr:only-child th {\n",
       "        text-align: right;\n",
       "    }\n",
       "\n",
       "    .dataframe thead th {\n",
       "        text-align: left;\n",
       "    }\n",
       "\n",
       "    .dataframe tbody tr th {\n",
       "        vertical-align: top;\n",
       "    }\n",
       "</style>\n",
       "<table border=\"1\" class=\"dataframe\">\n",
       "  <thead>\n",
       "    <tr style=\"text-align: right;\">\n",
       "      <th></th>\n",
       "      <th>beer_servings</th>\n",
       "      <th>spirit_servings</th>\n",
       "      <th>wine_servings</th>\n",
       "    </tr>\n",
       "  </thead>\n",
       "  <tbody>\n",
       "    <tr>\n",
       "      <th>0</th>\n",
       "      <td>0</td>\n",
       "      <td>0</td>\n",
       "      <td>0</td>\n",
       "    </tr>\n",
       "    <tr>\n",
       "      <th>1</th>\n",
       "      <td>89</td>\n",
       "      <td>132</td>\n",
       "      <td>54</td>\n",
       "    </tr>\n",
       "    <tr>\n",
       "      <th>2</th>\n",
       "      <td>25</td>\n",
       "      <td>0</td>\n",
       "      <td>14</td>\n",
       "    </tr>\n",
       "    <tr>\n",
       "      <th>3</th>\n",
       "      <td>245</td>\n",
       "      <td>138</td>\n",
       "      <td>312</td>\n",
       "    </tr>\n",
       "    <tr>\n",
       "      <th>4</th>\n",
       "      <td>217</td>\n",
       "      <td>57</td>\n",
       "      <td>45</td>\n",
       "    </tr>\n",
       "  </tbody>\n",
       "</table>\n",
       "</div>"
      ],
      "text/plain": [
       "   beer_servings  spirit_servings  wine_servings\n",
       "0              0                0              0\n",
       "1             89              132             54\n",
       "2             25                0             14\n",
       "3            245              138            312\n",
       "4            217               57             45"
      ]
     },
     "execution_count": 86,
     "metadata": {},
     "output_type": "execute_result"
    }
   ],
   "source": [
    "drinks.loc[:, 'beer_servings':'wine_servings'].head()"
   ]
  },
  {
   "cell_type": "code",
   "execution_count": 87,
   "metadata": {},
   "outputs": [
    {
     "data": {
      "text/plain": [
       "beer_servings      376\n",
       "spirit_servings    438\n",
       "wine_servings      370\n",
       "dtype: int64"
      ]
     },
     "execution_count": 87,
     "metadata": {},
     "output_type": "execute_result"
    }
   ],
   "source": [
    "# you want apply() method to travel axis=0 (downwards, column) \n",
    "# apply Python's max() function\n",
    "drinks.loc[:, 'beer_servings':'wine_servings'].apply(max, axis=0)"
   ]
  },
  {
   "cell_type": "code",
   "execution_count": 88,
   "metadata": {},
   "outputs": [
    {
     "data": {
      "text/plain": [
       "0        0\n",
       "1      132\n",
       "2       25\n",
       "3      312\n",
       "4      217\n",
       "5      128\n",
       "6      221\n",
       "7      179\n",
       "8      261\n",
       "9      279\n",
       "10      46\n",
       "11     176\n",
       "12      63\n",
       "13       0\n",
       "14     173\n",
       "15     373\n",
       "16     295\n",
       "17     263\n",
       "18      34\n",
       "19      23\n",
       "20     167\n",
       "21     173\n",
       "22     173\n",
       "23     245\n",
       "24      31\n",
       "25     252\n",
       "26      25\n",
       "27      88\n",
       "28      37\n",
       "29     144\n",
       "      ... \n",
       "163    178\n",
       "164     90\n",
       "165    186\n",
       "166    280\n",
       "167     35\n",
       "168     15\n",
       "169    258\n",
       "170    106\n",
       "171      4\n",
       "172     36\n",
       "173     36\n",
       "174    197\n",
       "175     51\n",
       "176     51\n",
       "177     71\n",
       "178     41\n",
       "179     45\n",
       "180    237\n",
       "181    135\n",
       "182    219\n",
       "183     36\n",
       "184    249\n",
       "185    220\n",
       "186    101\n",
       "187     21\n",
       "188    333\n",
       "189    111\n",
       "190      6\n",
       "191     32\n",
       "192     64\n",
       "Length: 193, dtype: int64"
      ]
     },
     "execution_count": 88,
     "metadata": {},
     "output_type": "execute_result"
    }
   ],
   "source": [
    "# you want apply() method to travel axis=1 (right, row) \n",
    "# apply Python's max() function\n",
    "drinks.loc[:, 'beer_servings':'wine_servings'].apply(max, axis=1)"
   ]
  },
  {
   "cell_type": "code",
   "execution_count": 89,
   "metadata": {},
   "outputs": [
    {
     "data": {
      "text/plain": [
       "0        beer_servings\n",
       "1      spirit_servings\n",
       "2        beer_servings\n",
       "3        wine_servings\n",
       "4        beer_servings\n",
       "5      spirit_servings\n",
       "6        wine_servings\n",
       "7      spirit_servings\n",
       "8        beer_servings\n",
       "9        beer_servings\n",
       "10     spirit_servings\n",
       "11     spirit_servings\n",
       "12     spirit_servings\n",
       "13       beer_servings\n",
       "14     spirit_servings\n",
       "15     spirit_servings\n",
       "16       beer_servings\n",
       "17       beer_servings\n",
       "18       beer_servings\n",
       "19       beer_servings\n",
       "20       beer_servings\n",
       "21     spirit_servings\n",
       "22       beer_servings\n",
       "23       beer_servings\n",
       "24       beer_servings\n",
       "25     spirit_servings\n",
       "26       beer_servings\n",
       "27       beer_servings\n",
       "28       beer_servings\n",
       "29       beer_servings\n",
       "            ...       \n",
       "163    spirit_servings\n",
       "164      beer_servings\n",
       "165      wine_servings\n",
       "166      wine_servings\n",
       "167    spirit_servings\n",
       "168    spirit_servings\n",
       "169    spirit_servings\n",
       "170      beer_servings\n",
       "171      wine_servings\n",
       "172      beer_servings\n",
       "173      beer_servings\n",
       "174      beer_servings\n",
       "175      beer_servings\n",
       "176      beer_servings\n",
       "177    spirit_servings\n",
       "178    spirit_servings\n",
       "179      beer_servings\n",
       "180    spirit_servings\n",
       "181    spirit_servings\n",
       "182      beer_servings\n",
       "183      beer_servings\n",
       "184      beer_servings\n",
       "185      wine_servings\n",
       "186    spirit_servings\n",
       "187      beer_servings\n",
       "188      beer_servings\n",
       "189      beer_servings\n",
       "190      beer_servings\n",
       "191      beer_servings\n",
       "192      beer_servings\n",
       "Length: 193, dtype: object"
      ]
     },
     "execution_count": 89,
     "metadata": {},
     "output_type": "execute_result"
    }
   ],
   "source": [
    "# finding which column is the maximum's category name\n",
    "drinks.loc[:, 'beer_servings':'wine_servings'].apply(np.argmax, axis=1)"
   ]
  },
  {
   "cell_type": "code",
   "execution_count": null,
   "metadata": {
    "collapsed": true
   },
   "outputs": [],
   "source": []
  },
  {
   "cell_type": "code",
   "execution_count": null,
   "metadata": {
    "collapsed": true
   },
   "outputs": [],
   "source": []
  },
  {
   "cell_type": "code",
   "execution_count": null,
   "metadata": {
    "collapsed": true
   },
   "outputs": [],
   "source": []
  },
  {
   "cell_type": "markdown",
   "metadata": {},
   "source": [
    "# Iterator "
   ]
  },
  {
   "cell_type": "markdown",
   "metadata": {},
   "source": [
    "## Iterator is an object which allows a programmer to traverse through all the elements of a collection, regardless of its specific implementation. In Python, an iterator object implements two methods, iter() and next().\n",
    "\n",
    "### String, List or Tuple objects can be used to create an Iterator."
   ]
  },
  {
   "cell_type": "code",
   "execution_count": 35,
   "metadata": {},
   "outputs": [
    {
     "name": "stdout",
     "output_type": "stream",
     "text": [
      "Next Available Element in iterator: 1\n",
      "Next Available Element in iterator: 2\n",
      "3\n",
      "4\n"
     ]
    },
    {
     "ename": "SystemExit",
     "evalue": "",
     "output_type": "error",
     "traceback": [
      "An exception has occurred, use %tb to see the full traceback.\n",
      "\u001b[1;31mSystemExit\u001b[0m\n"
     ]
    },
    {
     "name": "stderr",
     "output_type": "stream",
     "text": [
      "C:\\Users\\Dr.Thyagaraju\\Anaconda3\\lib\\site-packages\\IPython\\core\\interactiveshell.py:2870: UserWarning: To exit: use 'exit', 'quit', or Ctrl-D.\n",
      "  warn(\"To exit: use 'exit', 'quit', or Ctrl-D.\", stacklevel=1)\n"
     ]
    }
   ],
   "source": [
    "import sys\n",
    "list = [1,2,3,4]\n",
    "it = iter(list) # this builds an iterator object\n",
    "print (\"Next Available Element in iterator:\", next(it)) #prints next available element in iterator\n",
    "print (\"Next Available Element in iterator:\", next(it))\n",
    "#Iterator object can be traversed using regular for statement\n",
    "\n",
    "while True:\n",
    "    try:\n",
    "        print (next(it))\n",
    "    except StopIteration:\n",
    "        sys.exit() \n",
    "    "
   ]
  },
  {
   "cell_type": "markdown",
   "metadata": {},
   "source": [
    "# isinstance()"
   ]
  },
  {
   "cell_type": "code",
   "execution_count": 62,
   "metadata": {},
   "outputs": [
    {
     "name": "stdout",
     "output_type": "stream",
     "text": [
      "True\n"
     ]
    }
   ],
   "source": [
    "# Python code for  isinstance()\n",
    "# Syntax : isinstance(object, classinfo) \n",
    "#The isinstance() takes two parameters:\n",
    "# object : object to be checked\n",
    "# classinfo : class, type, or tuple of classes and types\n",
    "\n",
    "class Test:\n",
    "    a = 5\n",
    "TestInstance = Test()\n",
    " \n",
    "print(isinstance(TestInstance, Test))"
   ]
  },
  {
   "cell_type": "markdown",
   "metadata": {},
   "source": [
    "PPRINT"
   ]
  },
  {
   "cell_type": "code",
   "execution_count": 92,
   "metadata": {},
   "outputs": [
    {
     "name": "stdout",
     "output_type": "stream",
     "text": [
      "{'key': {'val': 'foo', 'val2': 'bar'}}\n",
      "{'key': {'val': 'foo', 'val2': 'bar'}}\n"
     ]
    }
   ],
   "source": [
    "import pprint\n",
    "#dictionary from another answer\n",
    "my_dict = dict(key=dict(val='foo',val2= 'bar'))\n",
    "print(my_dict)\n",
    "pprint.pprint(my_dict)"
   ]
  },
  {
   "cell_type": "code",
   "execution_count": 93,
   "metadata": {},
   "outputs": [
    {
     "name": "stdout",
     "output_type": "stream",
     "text": [
      "{'a': 2, 'b': {'x': 3, 'y': {'t1': 4, 't2': 5}}}\n",
      "{'a': 2, 'b': {'x': 3, 'y': {'t1': 4, 't2': 5}}}\n"
     ]
    }
   ],
   "source": [
    "data = {'a':2, 'b':{'x':3, 'y':{'t1': 4, 't2':5}}}\n",
    "print(data)\n",
    "pprint.pprint(data)"
   ]
  },
  {
   "cell_type": "code",
   "execution_count": 99,
   "metadata": {},
   "outputs": [
    {
     "name": "stdout",
     "output_type": "stream",
     "text": [
      "USING PRINT:\n",
      " {'key1': 'value1', 'key2': 'value2', 'key3': {'key3a': 'value3a'}, 'key4': {'key4a': {'key4aa': 'value4aa', 'key4ab': 'value4ab', 'key4ac': 'value4ac'}, 'key4b': 'value4b'}}\n",
      "\n",
      "\n",
      " USING PPRINT:\n",
      "\n",
      "{'key1': 'value1',\n",
      " 'key2': 'value2',\n",
      " 'key3': {'key3a': 'value3a'},\n",
      " 'key4': {'key4a': {'key4aa': 'value4aa',\n",
      "                    'key4ab': 'value4ab',\n",
      "                    'key4ac': 'value4ac'},\n",
      "          'key4b': 'value4b'}}\n"
     ]
    }
   ],
   "source": [
    "data = { 'key1' : 'value1',\n",
    "                     'key2' : 'value2',\n",
    "                     'key3' : { 'key3a': 'value3a' },\n",
    "                     'key4' : { 'key4a': { 'key4aa': 'value4aa',\n",
    "                                           'key4ab': 'value4ab',\n",
    "                                           'key4ac': 'value4ac'},\n",
    "                                'key4b': 'value4b'}\n",
    "                   }\n",
    "print(\"USING PRINT:\\n\",data)\n",
    "print(\"\\n\\n USING PPRINT:\\n\")\n",
    "pprint.pprint(data)"
   ]
  },
  {
   "cell_type": "code",
   "execution_count": null,
   "metadata": {
    "collapsed": true
   },
   "outputs": [],
   "source": []
  }
 ],
 "metadata": {
  "kernelspec": {
   "display_name": "Python 3",
   "language": "python",
   "name": "python3"
  },
  "language_info": {
   "codemirror_mode": {
    "name": "ipython",
    "version": 3
   },
   "file_extension": ".py",
   "mimetype": "text/x-python",
   "name": "python",
   "nbconvert_exporter": "python",
   "pygments_lexer": "ipython3",
   "version": "3.6.3"
  }
 },
 "nbformat": 4,
 "nbformat_minor": 2
}
